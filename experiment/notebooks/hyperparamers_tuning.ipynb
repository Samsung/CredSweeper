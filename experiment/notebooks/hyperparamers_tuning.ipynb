{
 "cells": [
  {
   "cell_type": "markdown",
   "source": [
    "Load data"
   ],
   "metadata": {
    "collapsed": false
   },
   "id": "836af9d114b66640"
  },
  {
   "cell_type": "code",
   "outputs": [
    {
     "name": "stderr",
     "output_type": "stream",
     "text": [
      "2024-02-22 09:24:58.716420: E external/local_xla/xla/stream_executor/cuda/cuda_dnn.cc:9261] Unable to register cuDNN factory: Attempting to register factory for plugin cuDNN when one has already been registered\n",
      "2024-02-22 09:24:58.716621: E external/local_xla/xla/stream_executor/cuda/cuda_fft.cc:607] Unable to register cuFFT factory: Attempting to register factory for plugin cuFFT when one has already been registered\n",
      "2024-02-22 09:24:58.719146: E external/local_xla/xla/stream_executor/cuda/cuda_blas.cc:1515] Unable to register cuBLAS factory: Attempting to register factory for plugin cuBLAS when one has already been registered\n",
      "2024-02-22 09:24:58.730594: I tensorflow/core/platform/cpu_feature_guard.cc:182] This TensorFlow binary is optimized to use available CPU instructions in performance-critical operations.\n",
      "To enable the following instructions: AVX2 FMA, in other operations, rebuild TensorFlow with the appropriate compiler flags.\n",
      "2024-02-22 09:25:03.086614: W tensorflow/compiler/tf2tensorrt/utils/py_utils.cc:38] TF-TRT Warning: Could not find TensorRT\n"
     ]
    }
   ],
   "source": [
    "from experiment.src.data_loader import read_detected_data, read_metadata, join_label, get_missing, eval_no_model, \\\n",
    "    get_y_labels, eval_with_model\n",
    "from copy import deepcopy\n",
    "from experiment.src.split import load_fixed_split\n",
    "from experiment.src.features import prepare_data\n",
    "import tensorflow as tf\n",
    "from sklearn.utils.class_weight import compute_class_weight\n",
    "from tensorflow.keras.layers import Dense, LSTM, Bidirectional, Input, Concatenate\n",
    "from tensorflow.keras.models import Model\n",
    "from skopt.space import Integer, Categorical\n",
    "import matplotlib.pyplot as plt\n",
    "import gc\n",
    "from datetime import datetime\n",
    "from skopt.utils import use_named_args\n",
    "from keras.callbacks import EarlyStopping \n",
    "\n",
    "from experiment.src.prepare_data import prepare_train_data\n",
    "import numpy as np\n",
    "import yaml\n",
    "from pathlib import Path\n",
    "import json \n",
    "from typing import Tuple, List\n"
   ],
   "metadata": {
    "collapsed": false,
    "ExecuteTime": {
     "end_time": "2024-02-22T07:25:06.872580Z",
     "start_time": "2024-02-22T07:24:46.873585100Z"
    }
   },
   "id": "f4f87fd39d956138",
   "execution_count": 1
  },
  {
   "cell_type": "code",
   "outputs": [],
   "source": [
    "def get_predictions_keras(model: Model, data: List[np.ndarray]) -> Tuple[np.ndarray, np.ndarray]:\n",
    "    probability = model.predict(data).ravel()\n",
    "    prediction = probability > 0.5\n",
    "\n",
    "    return prediction, probability"
   ],
   "metadata": {
    "collapsed": false,
    "ExecuteTime": {
     "end_time": "2024-02-22T07:25:06.905342700Z",
     "start_time": "2024-02-22T07:25:06.829456300Z"
    }
   },
   "id": "2e17988b4169b06d",
   "execution_count": 2
  },
  {
   "cell_type": "code",
   "outputs": [],
   "source": [
    "def get_class_weights(y_data):\n",
    "        class_weights = compute_class_weight('balanced', classes=np.unique(y_data), y=y_data)\n",
    "        return dict(enumerate(class_weights))"
   ],
   "metadata": {
    "collapsed": false,
    "ExecuteTime": {
     "end_time": "2024-02-22T07:25:06.936184300Z",
     "start_time": "2024-02-22T07:25:06.845014600Z"
    }
   },
   "id": "e5a9d3a2f9095556",
   "execution_count": 3
  },
  {
   "cell_type": "code",
   "outputs": [],
   "source": [
    "def save_history_acc_loss(history, dst_dir):\n",
    "    # summarize history for accuracy\n",
    "    plt.clf()\n",
    "    plt.plot(history.history['accuracy'])\n",
    "    plt.plot(history.history['val_accuracy'])\n",
    "    plt.title('model accuracy')\n",
    "    plt.ylabel('accuracy')\n",
    "    plt.xlabel('epoch')\n",
    "    plt.legend(['train', 'test'], loc='upper left')\n",
    "    plt.savefig(dst_dir + '/accuracy.png')\n",
    "    \n",
    "    plt.clf()\n",
    "    \n",
    "    # summarize history for loss\n",
    "    plt.plot(history.history['loss'])\n",
    "    plt.plot(history.history['val_loss'])\n",
    "    plt.title('model loss')\n",
    "    plt.ylabel('loss')\n",
    "    plt.xlabel('epoch')\n",
    "    plt.legend(['train', 'test'], loc='upper left')\n",
    "    plt.savefig(dst_dir + '/loss.png')\n",
    "    plt.clf()"
   ],
   "metadata": {
    "collapsed": false,
    "ExecuteTime": {
     "end_time": "2024-02-22T07:25:06.983201100Z",
     "start_time": "2024-02-22T07:25:06.893570800Z"
    }
   },
   "id": "a1856cf8dc4b7e5b",
   "execution_count": 4
  },
  {
   "cell_type": "code",
   "outputs": [],
   "source": [
    "def save_model(model, params, train_history, eval_res):\n",
    "    current_time = datetime.now().strftime(\"%Y%m%d_%H%M%S\")\n",
    "    model_file_dir = f\"results/ml_{eval_res['F1']:.6f}-{current_time}\"\n",
    "    Path(model_file_dir).mkdir(parents=True, exist_ok=True)\n",
    "    model.save(f\"{model_file_dir}/model\")\n",
    "    save_history_acc_loss(train_history, f\"{model_file_dir}/\")\n",
    "    with open(f\"{model_file_dir}/info.txt\", 'w') as f:\n",
    "        f.write(json.dumps(params, default=str))\n",
    "        f.write('\\n')\n",
    "        f.write(json.dumps(eval_res, default=str))\n",
    "    print(f'Saving model {model_file_dir}')"
   ],
   "metadata": {
    "collapsed": false,
    "ExecuteTime": {
     "end_time": "2024-02-22T07:25:07.015184Z",
     "start_time": "2024-02-22T07:25:06.922122900Z"
    }
   },
   "id": "f36c3e8fa33ae728",
   "execution_count": 5
  },
  {
   "cell_type": "code",
   "outputs": [
    {
     "name": "stderr",
     "output_type": "stream",
     "text": [
      "2024-02-22 09:25:08.457688: I external/local_xla/xla/stream_executor/cuda/cuda_executor.cc:887] could not open file to read NUMA node: /sys/bus/pci/devices/0000:01:00.0/numa_node\n",
      "Your kernel may have been built without NUMA support.\n",
      "2024-02-22 09:25:08.540434: I external/local_xla/xla/stream_executor/cuda/cuda_executor.cc:887] could not open file to read NUMA node: /sys/bus/pci/devices/0000:01:00.0/numa_node\n",
      "Your kernel may have been built without NUMA support.\n",
      "2024-02-22 09:25:08.540823: I external/local_xla/xla/stream_executor/cuda/cuda_executor.cc:887] could not open file to read NUMA node: /sys/bus/pci/devices/0000:01:00.0/numa_node\n",
      "Your kernel may have been built without NUMA support.\n"
     ]
    },
    {
     "data": {
      "text/plain": "[PhysicalDevice(name='/physical_device:GPU:0', device_type='GPU')]"
     },
     "execution_count": 6,
     "metadata": {},
     "output_type": "execute_result"
    }
   ],
   "source": [
    "tf.config.list_physical_devices('GPU')"
   ],
   "metadata": {
    "collapsed": false,
    "ExecuteTime": {
     "end_time": "2024-02-22T07:25:08.594807400Z",
     "start_time": "2024-02-22T07:25:06.958182400Z"
    }
   },
   "id": "fec208c8d1fa949c",
   "execution_count": 6
  },
  {
   "cell_type": "code",
   "outputs": [
    {
     "name": "stdout",
     "output_type": "stream",
     "text": [
      "/mnt/c/Users/yuliia.t/CredData\n"
     ]
    }
   ],
   "source": [
    "with open('env.yaml', 'r') as yaml_settings:\n",
    "    args = yaml.load(yaml_settings, yaml.FullLoader)\n",
    "cred_data_location = args[0]['cred_data_location']\n",
    "print(cred_data_location)"
   ],
   "metadata": {
    "collapsed": false,
    "ExecuteTime": {
     "end_time": "2024-02-22T07:25:08.745081200Z",
     "start_time": "2024-02-22T07:25:08.593910800Z"
    }
   },
   "id": "483f40d2436ba817",
   "execution_count": 7
  },
  {
   "cell_type": "code",
   "outputs": [
    {
     "name": "stdout",
     "output_type": "stream",
     "text": [
      "Reading detections from wsl/result.json\n",
      "Detected 19780 unique lines!\n",
      "23805 detections in total\n",
      "Reading meta from /mnt/c/Users/yuliia.t/CredData/meta\n",
      "Loaded 64394 lines from meta!\n",
      "64428 lines in meta in total\n",
      "Reading detections from wsl/result_aug_data.json\n",
      "Detected 144330 unique lines!\n",
      "155787 detections in total\n",
      "Reading meta from /mnt/c/Users/yuliia.t/CredData/aug_data/meta\n",
      "Loaded 40331 lines from meta!\n",
      "40331 lines in meta in total\n"
     ]
    }
   ],
   "source": [
    "detected_data = read_detected_data(\"wsl/result.json\")\n",
    "meta_data = read_metadata(f\"{cred_data_location}/meta\")\n",
    "\n",
    "detected_data_copy = deepcopy(detected_data)\n",
    "meta_data_copy = deepcopy(meta_data)\n",
    "\n",
    "    # Combine original and augmented data together\n",
    "aug_detected_data = read_detected_data(\"wsl/result_aug_data.json\", \"aug_data/\")\n",
    "detected_data.update(aug_detected_data)\n",
    "aug_metadata = read_metadata(f\"{cred_data_location}/aug_data/meta\", \"aug_data/\")\n",
    "meta_data.update(aug_metadata)"
   ],
   "metadata": {
    "collapsed": true,
    "ExecuteTime": {
     "end_time": "2024-02-22T07:26:03.662931200Z",
     "start_time": "2024-02-22T07:25:08.615658300Z"
    }
   },
   "id": "initial_id",
   "execution_count": 8
  },
  {
   "cell_type": "code",
   "outputs": [],
   "source": [
    "df = join_label(detected_data, meta_data)\n",
    "\n",
    "train_repo_list, test_repo_list = load_fixed_split()\n",
    "\n",
    "df_train = df[df[\"repo\"].isin(train_repo_list)]"
   ],
   "metadata": {
    "collapsed": false,
    "ExecuteTime": {
     "end_time": "2024-02-22T07:26:05.261808200Z",
     "start_time": "2024-02-22T07:26:03.635025700Z"
    }
   },
   "id": "835c9ed4737c449f",
   "execution_count": 9
  },
  {
   "cell_type": "code",
   "outputs": [
    {
     "name": "stdout",
     "output_type": "stream",
     "text": [
      "Train size: 16625\n",
      "Train size after drop_duplicates: 11457\n",
      "Class-1 prop on train: 0.22\n"
     ]
    }
   ],
   "source": [
    "print(f\"Train size: {len(df_train)}\")\n",
    "\n",
    "df_train = df_train.drop_duplicates(subset=[\"line\", \"ext\"])\n",
    "print(f\"Train size after drop_duplicates: {len(df_train)}\")\n",
    "\n",
    "X_train_value, X_train_features = prepare_data(df_train)\n",
    "y_train = get_y_labels(df_train)\n",
    "\n",
    "print(f\"Class-1 prop on train: {np.mean(y_train):.2f}\")"
   ],
   "metadata": {
    "collapsed": false,
    "ExecuteTime": {
     "end_time": "2024-02-22T07:27:09.590392Z",
     "start_time": "2024-02-22T07:26:05.277032900Z"
    }
   },
   "id": "cb33e39baf78383e",
   "execution_count": 10
  },
  {
   "cell_type": "code",
   "outputs": [
    {
     "data": {
      "text/plain": "{0: 0.641633064516129, 1: 2.2651245551601424}"
     },
     "execution_count": 11,
     "metadata": {},
     "output_type": "execute_result"
    }
   ],
   "source": [
    "get_class_weights(y_train)"
   ],
   "metadata": {
    "collapsed": false,
    "ExecuteTime": {
     "end_time": "2024-02-22T07:27:09.618459700Z",
     "start_time": "2024-02-22T07:27:09.583433600Z"
    }
   },
   "id": "2998948307ac0edd",
   "execution_count": 11
  },
  {
   "cell_type": "code",
   "outputs": [],
   "source": [
    "vocab_size = X_train_value.shape[-1]\n",
    "feature_size = X_train_features.shape[-1]"
   ],
   "metadata": {
    "collapsed": false,
    "ExecuteTime": {
     "end_time": "2024-02-22T07:27:09.621382400Z",
     "start_time": "2024-02-22T07:27:09.604383800Z"
    }
   },
   "id": "b6799eedab8aa18a",
   "execution_count": 12
  },
  {
   "cell_type": "markdown",
   "source": [
    "Setup parameters"
   ],
   "metadata": {
    "collapsed": false
   },
   "id": "7d50c43b8c1cbfc6"
  },
  {
   "cell_type": "code",
   "outputs": [
    {
     "name": "stderr",
     "output_type": "stream",
     "text": [
      "2024-02-22 09:27:09.626340: I external/local_xla/xla/stream_executor/cuda/cuda_executor.cc:887] could not open file to read NUMA node: /sys/bus/pci/devices/0000:01:00.0/numa_node\n",
      "Your kernel may have been built without NUMA support.\n",
      "2024-02-22 09:27:09.626597: I external/local_xla/xla/stream_executor/cuda/cuda_executor.cc:887] could not open file to read NUMA node: /sys/bus/pci/devices/0000:01:00.0/numa_node\n",
      "Your kernel may have been built without NUMA support.\n",
      "2024-02-22 09:27:09.626726: I external/local_xla/xla/stream_executor/cuda/cuda_executor.cc:887] could not open file to read NUMA node: /sys/bus/pci/devices/0000:01:00.0/numa_node\n",
      "Your kernel may have been built without NUMA support.\n",
      "2024-02-22 09:27:10.975102: I external/local_xla/xla/stream_executor/cuda/cuda_executor.cc:887] could not open file to read NUMA node: /sys/bus/pci/devices/0000:01:00.0/numa_node\n",
      "Your kernel may have been built without NUMA support.\n",
      "2024-02-22 09:27:10.975250: I external/local_xla/xla/stream_executor/cuda/cuda_executor.cc:887] could not open file to read NUMA node: /sys/bus/pci/devices/0000:01:00.0/numa_node\n",
      "Your kernel may have been built without NUMA support.\n",
      "2024-02-22 09:27:10.975268: I tensorflow/core/common_runtime/gpu/gpu_device.cc:2022] Could not identify NUMA node of platform GPU id 0, defaulting to 0.  Your kernel may not have been built with NUMA support.\n",
      "2024-02-22 09:27:10.975380: I external/local_xla/xla/stream_executor/cuda/cuda_executor.cc:887] could not open file to read NUMA node: /sys/bus/pci/devices/0000:01:00.0/numa_node\n",
      "Your kernel may have been built without NUMA support.\n",
      "2024-02-22 09:27:10.975420: I tensorflow/core/common_runtime/gpu/gpu_device.cc:1929] Created device /job:localhost/replica:0/task:0/device:GPU:0 with 1430 MB memory:  -> device: 0, name: NVIDIA GeForce MX150, pci bus id: 0000:01:00.0, compute capability: 6.1\n"
     ]
    }
   ],
   "source": [
    "DEFAULT_METRICS = ['accuracy', tf.keras.metrics.Precision(), tf.keras.metrics.Recall()]# 'sparse_categorical_accuracy']"
   ],
   "metadata": {
    "collapsed": false,
    "ExecuteTime": {
     "end_time": "2024-02-22T07:27:11.099251500Z",
     "start_time": "2024-02-22T07:27:09.615382900Z"
    }
   },
   "id": "88ac38528f95baba",
   "execution_count": 13
  },
  {
   "cell_type": "code",
   "outputs": [],
   "source": [
    "lstm_units = 128\n",
    "dense_1_units = 128\n",
    "batch_size = 64\n",
    "epochs = 100\n",
    "activation = ['softmax','relu', 'tanh', 'sigmoid']#'softmax', 'linear']\n",
    "# Hyperparameters\n",
    "space = [\n",
    "    # Model params\n",
    "    Integer(1, 500, name=\"lstm_units\"),\n",
    "    Integer(1, 300, name=\"dense_1_units\"),\n",
    "    Categorical(activation, name=\"activation\"),\n",
    "    Categorical([0.1, 0.01, 0.001, 0.0001, 0.00001], name='learning_rate'),\n",
    "\n",
    "    # Context params\n",
    "    Integer(10, 80,  name=\"epochs\"),\n",
    "    Integer(1, 128, name=\"batch_size\")]\n",
    "    "
   ],
   "metadata": {
    "collapsed": false,
    "ExecuteTime": {
     "end_time": "2024-02-22T07:27:11.200349800Z",
     "start_time": "2024-02-22T07:27:11.130061300Z"
    }
   },
   "id": "f2d60b067aad31f4",
   "execution_count": 14
  },
  {
   "cell_type": "code",
   "outputs": [],
   "source": [
    "best_loss = 1\n",
    "f1 = 0"
   ],
   "metadata": {
    "collapsed": false,
    "ExecuteTime": {
     "end_time": "2024-02-22T07:27:11.255130500Z",
     "start_time": "2024-02-22T07:27:11.148007300Z"
    }
   },
   "id": "9fc51bfaf5cc905b",
   "execution_count": 15
  },
  {
   "cell_type": "code",
   "outputs": [
    {
     "name": "stdout",
     "output_type": "stream",
     "text": [
      "Validate results on the test subset\n",
      "Test size: 3155\n"
     ]
    }
   ],
   "source": [
    "print(\"Validate results on the test subset\")\n",
    "df = join_label(detected_data_copy, meta_data_copy)\n",
    "df_missing = get_missing(detected_data_copy, meta_data_copy)\n",
    "df_test = df[df[\"repo\"].isin(test_repo_list)]\n",
    "df_test = df_test[df_test[\"value\"].notna()]\n",
    "\n",
    "df_missing_test = df_missing[df_missing[\"repo\"].isin(test_repo_list)]\n",
    "X_test_value, X_test_features = prepare_data(df_test)\n",
    "y_test = get_y_labels(df_test)\n",
    "\n",
    "print(f\"Test size: {len(df_test)}\")"
   ],
   "metadata": {
    "collapsed": false,
    "ExecuteTime": {
     "end_time": "2024-02-22T07:27:29.915099200Z",
     "start_time": "2024-02-22T07:27:11.172387300Z"
    }
   },
   "id": "65831eb99b54fc28",
   "execution_count": 16
  },
  {
   "cell_type": "code",
   "outputs": [],
   "source": [
    "early_stopping_monitor = EarlyStopping(patience=4)\n",
    "\n",
    "@use_named_args(space)\n",
    "def train_model(**params):\n",
    "    print(params)\n",
    "    lstm_input = Input(shape=(None, vocab_size), name=\"line_input\")\n",
    "    lstm_branch = Bidirectional(LSTM(params['lstm_units']))(lstm_input)\n",
    "    \n",
    "    feature_input = Input(shape=(feature_size, ), name=\"feature_input\") \n",
    "    joined_features = Concatenate()([lstm_branch, feature_input])\n",
    "    x = Dense(params['dense_1_units'], activation=params['activation'], name=\"Dense_1\")(joined_features)\n",
    "    x = Dense(1, activation='sigmoid', name=\"prediction\")(x)\n",
    "    \n",
    "    model = Model([lstm_input, feature_input], x)\n",
    "    \n",
    "    adam_optimizer =  tf.keras.optimizers.Adam(learning_rate=params['learning_rate'])\n",
    "    model.compile(optimizer=adam_optimizer, loss='binary_crossentropy', metrics=DEFAULT_METRICS)\n",
    "    hist = model.fit(\n",
    "        [X_train_value, X_train_features],\n",
    "        y_train,\n",
    "        #validation_split=0.2,\n",
    "        validation_data = ([X_test_value, X_test_features], y_test),\n",
    "        batch_size=params['batch_size'],\n",
    "        epochs=params['epochs'],\n",
    "        class_weight={\n",
    "           0: 0.641633064516129, 1: 2.2651245551601424})\n",
    "        #callbacks=[early_stopping_monitor])\n",
    "\n",
    "    print(f\"Min training loss={min(hist.history['loss'])}, min validation loss={min(hist.history['val_loss'])}\")\n",
    "    test_predictions, test_probabilities = get_predictions_keras(model, [X_test_value, X_test_features])\n",
    "    print(\"Results on test with model:\")\n",
    "    val_res = eval_with_model(df_test, df_missing_test, test_predictions)\n",
    "        \n",
    "    save_model(model, params, hist, val_res)\n",
    "    del model\n",
    "    gc.collect()\n",
    "    return val_res['F1'] "
   ],
   "metadata": {
    "collapsed": false,
    "ExecuteTime": {
     "end_time": "2024-02-22T07:27:29.951152400Z",
     "start_time": "2024-02-22T07:27:29.909145800Z"
    }
   },
   "id": "36d63446fbaaf274",
   "execution_count": 17
  },
  {
   "cell_type": "code",
   "outputs": [
    {
     "name": "stdout",
     "output_type": "stream",
     "text": [
      "{'lstm_units': 29, 'dense_1_units': 250, 'activation': 'sigmoid', 'learning_rate': 0.1, 'epochs': 16, 'batch_size': 51}\n"
     ]
    },
    {
     "name": "stderr",
     "output_type": "stream",
     "text": [
      "2024-02-22 09:27:30.223144: I external/local_tsl/tsl/platform/default/subprocess.cc:304] Start cannot spawn child process: No such file or directory\n"
     ]
    },
    {
     "name": "stdout",
     "output_type": "stream",
     "text": [
      "Epoch 1/16\n"
     ]
    },
    {
     "name": "stderr",
     "output_type": "stream",
     "text": [
      "2024-02-22 09:27:40.756415: I external/local_xla/xla/stream_executor/cuda/cuda_dnn.cc:454] Loaded cuDNN version 8904\n",
      "2024-02-22 09:27:41.807348: I external/local_xla/xla/service/service.cc:168] XLA service 0x7f8740b2dd70 initialized for platform CUDA (this does not guarantee that XLA will be used). Devices:\n",
      "2024-02-22 09:27:41.807426: I external/local_xla/xla/service/service.cc:176]   StreamExecutor device (0): NVIDIA GeForce MX150, Compute Capability 6.1\n",
      "2024-02-22 09:27:41.823168: I tensorflow/compiler/mlir/tensorflow/utils/dump_mlir_util.cc:269] disabling MLIR crash reproducer, set env var `MLIR_CRASH_REPRODUCER_DIRECTORY` to enable.\n",
      "WARNING: All log messages before absl::InitializeLog() is called are written to STDERR\n",
      "I0000 00:00:1708586861.990588    3425 device_compiler.h:186] Compiled cluster using XLA!  This line is logged at most once for the lifetime of the process.\n"
     ]
    },
    {
     "name": "stdout",
     "output_type": "stream",
     "text": [
      "225/225 [==============================] - 40s 140ms/step - loss: 0.4184 - accuracy: 0.8537 - precision: 0.6237 - recall: 0.8501 - val_loss: 0.4110 - val_accuracy: 0.9014 - val_precision: 0.6560 - val_recall: 0.9224\n",
      "Epoch 2/16\n",
      "225/225 [==============================] - 32s 144ms/step - loss: 0.2356 - accuracy: 0.9155 - precision: 0.7468 - recall: 0.9340 - val_loss: 0.3277 - val_accuracy: 0.9201 - val_precision: 0.7008 - val_recall: 0.9513\n",
      "Epoch 3/16\n",
      "225/225 [==============================] - 29s 128ms/step - loss: 0.2627 - accuracy: 0.9063 - precision: 0.7358 - recall: 0.8976 - val_loss: 0.2501 - val_accuracy: 0.8935 - val_precision: 0.6485 - val_recall: 0.8592\n",
      "Epoch 4/16\n",
      "225/225 [==============================] - 43s 191ms/step - loss: 0.3180 - accuracy: 0.8935 - precision: 0.7041 - recall: 0.8928 - val_loss: 0.2766 - val_accuracy: 0.9087 - val_precision: 0.7367 - val_recall: 0.7473\n",
      "Epoch 5/16\n",
      "225/225 [==============================] - 37s 163ms/step - loss: 0.2798 - accuracy: 0.9048 - precision: 0.7180 - recall: 0.9363 - val_loss: 0.3171 - val_accuracy: 0.9005 - val_precision: 0.6667 - val_recall: 0.8664\n",
      "Epoch 6/16\n",
      "225/225 [==============================] - 33s 147ms/step - loss: 0.3130 - accuracy: 0.8916 - precision: 0.6881 - recall: 0.9308 - val_loss: 0.5231 - val_accuracy: 0.8897 - val_precision: 0.6327 - val_recall: 0.8863\n",
      "Epoch 7/16\n",
      "225/225 [==============================] - 28s 122ms/step - loss: 0.3100 - accuracy: 0.8999 - precision: 0.7095 - recall: 0.9253 - val_loss: 0.3070 - val_accuracy: 0.8640 - val_precision: 0.5686 - val_recall: 0.9350\n",
      "Epoch 8/16\n",
      "225/225 [==============================] - 26s 117ms/step - loss: 0.2675 - accuracy: 0.9176 - precision: 0.7453 - recall: 0.9522 - val_loss: 0.3605 - val_accuracy: 0.8596 - val_precision: 0.5605 - val_recall: 0.9278\n",
      "Epoch 9/16\n",
      "225/225 [==============================] - 29s 129ms/step - loss: 0.2723 - accuracy: 0.9136 - precision: 0.7361 - recall: 0.9486 - val_loss: 0.4666 - val_accuracy: 0.8653 - val_precision: 0.5717 - val_recall: 0.9278\n",
      "Epoch 10/16\n",
      "225/225 [==============================] - 26s 116ms/step - loss: 0.2534 - accuracy: 0.9128 - precision: 0.7403 - recall: 0.9320 - val_loss: 0.2604 - val_accuracy: 0.8155 - val_precision: 0.4872 - val_recall: 0.9657\n",
      "Epoch 11/16\n",
      "225/225 [==============================] - 29s 130ms/step - loss: 0.2621 - accuracy: 0.9046 - precision: 0.7193 - recall: 0.9312 - val_loss: 0.2694 - val_accuracy: 0.8254 - val_precision: 0.5014 - val_recall: 0.9458\n",
      "Epoch 12/16\n",
      "225/225 [==============================] - 29s 127ms/step - loss: 0.3007 - accuracy: 0.8970 - precision: 0.6994 - recall: 0.9355 - val_loss: 0.4983 - val_accuracy: 0.8675 - val_precision: 0.5761 - val_recall: 0.9296\n",
      "Epoch 13/16\n",
      "225/225 [==============================] - 26s 115ms/step - loss: 0.2910 - accuracy: 0.9017 - precision: 0.7109 - recall: 0.9352 - val_loss: 0.2130 - val_accuracy: 0.9357 - val_precision: 0.8256 - val_recall: 0.8032\n",
      "Epoch 14/16\n",
      "225/225 [==============================] - 27s 122ms/step - loss: 0.2303 - accuracy: 0.9141 - precision: 0.7416 - recall: 0.9375 - val_loss: 0.4549 - val_accuracy: 0.8501 - val_precision: 0.5417 - val_recall: 0.9495\n",
      "Epoch 15/16\n",
      "225/225 [==============================] - 30s 136ms/step - loss: 0.2927 - accuracy: 0.8967 - precision: 0.7018 - recall: 0.9249 - val_loss: 0.9004 - val_accuracy: 0.8279 - val_precision: 0.5052 - val_recall: 0.9603\n",
      "Epoch 16/16\n",
      "225/225 [==============================] - 26s 117ms/step - loss: 0.2793 - accuracy: 0.9083 - precision: 0.7267 - recall: 0.9367 - val_loss: 0.3080 - val_accuracy: 0.8574 - val_precision: 0.5559 - val_recall: 0.9332\n",
      "Min training loss=0.2303209900856018, min validation loss=0.2130480259656906\n",
      "99/99 [==============================] - 4s 29ms/step\n",
      "Results on test with model:\n",
      "TP : 517, FP : 413, TN : 12573, FN : 222, FPR : 0.031803, FNR : 0.300406, PRC : 0.555914, RCL : 0.699594, F1 : 0.619533\n",
      "INFO:tensorflow:Assets written to: results/ml_0.619533-20240222_093550/model/assets\n"
     ]
    },
    {
     "name": "stderr",
     "output_type": "stream",
     "text": [
      "2024-02-22 09:36:06,561 | INFO | builder_impl.py:801 | Assets written to: results/ml_0.619533-20240222_093550/model/assets\n",
      "2024-02-22 09:36:07,068 | DEBUG | pyplot.py:414 | Loaded backend module://matplotlib_inline.backend_inline version unknown.\n",
      "2024-02-22 09:36:07,073 | DEBUG | pyplot.py:414 | Loaded backend module://matplotlib_inline.backend_inline version unknown.\n",
      "2024-02-22 09:36:07,095 | DEBUG | font_manager.py:1411 | findfont: Matching sans\\-serif:style=normal:variant=normal:weight=normal:stretch=normal:size=10.0.\n",
      "2024-02-22 09:36:07,100 | DEBUG | font_manager.py:1423 | findfont: score(FontEntry(fname='/home/ubuntu/.virtualenvs/CredSweeper2/lib/python3.10/site-packages/matplotlib/mpl-data/fonts/ttf/STIXSizOneSymReg.ttf', name='STIXSizeOneSym', style='normal', variant='normal', weight=400, stretch='normal', size='scalable')) = 10.05\n",
      "2024-02-22 09:36:07,103 | DEBUG | font_manager.py:1423 | findfont: score(FontEntry(fname='/home/ubuntu/.virtualenvs/CredSweeper2/lib/python3.10/site-packages/matplotlib/mpl-data/fonts/ttf/DejaVuSans-Oblique.ttf', name='DejaVu Sans', style='oblique', variant='normal', weight=400, stretch='normal', size='scalable')) = 1.05\n",
      "2024-02-22 09:36:07,107 | DEBUG | font_manager.py:1423 | findfont: score(FontEntry(fname='/home/ubuntu/.virtualenvs/CredSweeper2/lib/python3.10/site-packages/matplotlib/mpl-data/fonts/ttf/cmb10.ttf', name='cmb10', style='normal', variant='normal', weight=400, stretch='normal', size='scalable')) = 10.05\n",
      "2024-02-22 09:36:07,112 | DEBUG | font_manager.py:1423 | findfont: score(FontEntry(fname='/home/ubuntu/.virtualenvs/CredSweeper2/lib/python3.10/site-packages/matplotlib/mpl-data/fonts/ttf/STIXGeneralBolIta.ttf', name='STIXGeneral', style='italic', variant='normal', weight=700, stretch='normal', size='scalable')) = 11.335\n",
      "2024-02-22 09:36:07,116 | DEBUG | font_manager.py:1423 | findfont: score(FontEntry(fname='/home/ubuntu/.virtualenvs/CredSweeper2/lib/python3.10/site-packages/matplotlib/mpl-data/fonts/ttf/STIXSizFiveSymReg.ttf', name='STIXSizeFiveSym', style='normal', variant='normal', weight=400, stretch='normal', size='scalable')) = 10.05\n",
      "2024-02-22 09:36:07,120 | DEBUG | font_manager.py:1423 | findfont: score(FontEntry(fname='/home/ubuntu/.virtualenvs/CredSweeper2/lib/python3.10/site-packages/matplotlib/mpl-data/fonts/ttf/STIXSizTwoSymBol.ttf', name='STIXSizeTwoSym', style='normal', variant='normal', weight=700, stretch='normal', size='scalable')) = 10.335\n",
      "2024-02-22 09:36:07,125 | DEBUG | font_manager.py:1423 | findfont: score(FontEntry(fname='/home/ubuntu/.virtualenvs/CredSweeper2/lib/python3.10/site-packages/matplotlib/mpl-data/fonts/ttf/cmr10.ttf', name='cmr10', style='normal', variant='normal', weight=400, stretch='normal', size='scalable')) = 10.05\n",
      "2024-02-22 09:36:07,129 | DEBUG | font_manager.py:1423 | findfont: score(FontEntry(fname='/home/ubuntu/.virtualenvs/CredSweeper2/lib/python3.10/site-packages/matplotlib/mpl-data/fonts/ttf/DejaVuSansMono.ttf', name='DejaVu Sans Mono', style='normal', variant='normal', weight=400, stretch='normal', size='scalable')) = 10.05\n",
      "2024-02-22 09:36:07,134 | DEBUG | font_manager.py:1423 | findfont: score(FontEntry(fname='/home/ubuntu/.virtualenvs/CredSweeper2/lib/python3.10/site-packages/matplotlib/mpl-data/fonts/ttf/STIXGeneralItalic.ttf', name='STIXGeneral', style='italic', variant='normal', weight=400, stretch='normal', size='scalable')) = 11.05\n",
      "2024-02-22 09:36:07,139 | DEBUG | font_manager.py:1423 | findfont: score(FontEntry(fname='/home/ubuntu/.virtualenvs/CredSweeper2/lib/python3.10/site-packages/matplotlib/mpl-data/fonts/ttf/STIXNonUni.ttf', name='STIXNonUnicode', style='normal', variant='normal', weight=400, stretch='normal', size='scalable')) = 10.05\n",
      "2024-02-22 09:36:07,144 | DEBUG | font_manager.py:1423 | findfont: score(FontEntry(fname='/home/ubuntu/.virtualenvs/CredSweeper2/lib/python3.10/site-packages/matplotlib/mpl-data/fonts/ttf/DejaVuSansDisplay.ttf', name='DejaVu Sans Display', style='normal', variant='normal', weight=400, stretch='normal', size='scalable')) = 10.05\n",
      "2024-02-22 09:36:07,150 | DEBUG | font_manager.py:1423 | findfont: score(FontEntry(fname='/home/ubuntu/.virtualenvs/CredSweeper2/lib/python3.10/site-packages/matplotlib/mpl-data/fonts/ttf/cmss10.ttf', name='cmss10', style='normal', variant='normal', weight=400, stretch='normal', size='scalable')) = 10.05\n",
      "2024-02-22 09:36:07,155 | DEBUG | font_manager.py:1423 | findfont: score(FontEntry(fname='/home/ubuntu/.virtualenvs/CredSweeper2/lib/python3.10/site-packages/matplotlib/mpl-data/fonts/ttf/STIXSizThreeSymReg.ttf', name='STIXSizeThreeSym', style='normal', variant='normal', weight=400, stretch='normal', size='scalable')) = 10.05\n",
      "2024-02-22 09:36:07,160 | DEBUG | font_manager.py:1423 | findfont: score(FontEntry(fname='/home/ubuntu/.virtualenvs/CredSweeper2/lib/python3.10/site-packages/matplotlib/mpl-data/fonts/ttf/STIXNonUniBolIta.ttf', name='STIXNonUnicode', style='italic', variant='normal', weight=700, stretch='normal', size='scalable')) = 11.335\n",
      "2024-02-22 09:36:07,185 | DEBUG | font_manager.py:1423 | findfont: score(FontEntry(fname='/home/ubuntu/.virtualenvs/CredSweeper2/lib/python3.10/site-packages/matplotlib/mpl-data/fonts/ttf/STIXGeneral.ttf', name='STIXGeneral', style='normal', variant='normal', weight=400, stretch='normal', size='scalable')) = 10.05\n",
      "2024-02-22 09:36:07,189 | DEBUG | font_manager.py:1423 | findfont: score(FontEntry(fname='/home/ubuntu/.virtualenvs/CredSweeper2/lib/python3.10/site-packages/matplotlib/mpl-data/fonts/ttf/cmsy10.ttf', name='cmsy10', style='normal', variant='normal', weight=400, stretch='normal', size='scalable')) = 10.05\n",
      "2024-02-22 09:36:07,196 | DEBUG | font_manager.py:1423 | findfont: score(FontEntry(fname='/home/ubuntu/.virtualenvs/CredSweeper2/lib/python3.10/site-packages/matplotlib/mpl-data/fonts/ttf/STIXSizFourSymBol.ttf', name='STIXSizeFourSym', style='normal', variant='normal', weight=700, stretch='normal', size='scalable')) = 10.335\n",
      "2024-02-22 09:36:07,201 | DEBUG | font_manager.py:1423 | findfont: score(FontEntry(fname='/home/ubuntu/.virtualenvs/CredSweeper2/lib/python3.10/site-packages/matplotlib/mpl-data/fonts/ttf/cmex10.ttf', name='cmex10', style='normal', variant='normal', weight=400, stretch='normal', size='scalable')) = 10.05\n",
      "2024-02-22 09:36:07,206 | DEBUG | font_manager.py:1423 | findfont: score(FontEntry(fname='/home/ubuntu/.virtualenvs/CredSweeper2/lib/python3.10/site-packages/matplotlib/mpl-data/fonts/ttf/STIXSizTwoSymReg.ttf', name='STIXSizeTwoSym', style='normal', variant='normal', weight=400, stretch='normal', size='scalable')) = 10.05\n",
      "2024-02-22 09:36:07,214 | DEBUG | font_manager.py:1423 | findfont: score(FontEntry(fname='/home/ubuntu/.virtualenvs/CredSweeper2/lib/python3.10/site-packages/matplotlib/mpl-data/fonts/ttf/DejaVuSerif-BoldItalic.ttf', name='DejaVu Serif', style='italic', variant='normal', weight=700, stretch='normal', size='scalable')) = 11.335\n",
      "2024-02-22 09:36:07,217 | DEBUG | font_manager.py:1423 | findfont: score(FontEntry(fname='/home/ubuntu/.virtualenvs/CredSweeper2/lib/python3.10/site-packages/matplotlib/mpl-data/fonts/ttf/DejaVuSans-Bold.ttf', name='DejaVu Sans', style='normal', variant='normal', weight=700, stretch='normal', size='scalable')) = 0.33499999999999996\n",
      "2024-02-22 09:36:07,220 | DEBUG | font_manager.py:1423 | findfont: score(FontEntry(fname='/home/ubuntu/.virtualenvs/CredSweeper2/lib/python3.10/site-packages/matplotlib/mpl-data/fonts/ttf/DejaVuSansMono-Oblique.ttf', name='DejaVu Sans Mono', style='oblique', variant='normal', weight=400, stretch='normal', size='scalable')) = 11.05\n",
      "2024-02-22 09:36:07,223 | DEBUG | font_manager.py:1423 | findfont: score(FontEntry(fname='/home/ubuntu/.virtualenvs/CredSweeper2/lib/python3.10/site-packages/matplotlib/mpl-data/fonts/ttf/cmtt10.ttf', name='cmtt10', style='normal', variant='normal', weight=400, stretch='normal', size='scalable')) = 10.05\n",
      "2024-02-22 09:36:07,227 | DEBUG | font_manager.py:1423 | findfont: score(FontEntry(fname='/home/ubuntu/.virtualenvs/CredSweeper2/lib/python3.10/site-packages/matplotlib/mpl-data/fonts/ttf/STIXGeneralBol.ttf', name='STIXGeneral', style='normal', variant='normal', weight=700, stretch='normal', size='scalable')) = 10.335\n",
      "2024-02-22 09:36:07,229 | DEBUG | font_manager.py:1423 | findfont: score(FontEntry(fname='/home/ubuntu/.virtualenvs/CredSweeper2/lib/python3.10/site-packages/matplotlib/mpl-data/fonts/ttf/DejaVuSans-BoldOblique.ttf', name='DejaVu Sans', style='oblique', variant='normal', weight=700, stretch='normal', size='scalable')) = 1.335\n",
      "2024-02-22 09:36:07,233 | DEBUG | font_manager.py:1423 | findfont: score(FontEntry(fname='/home/ubuntu/.virtualenvs/CredSweeper2/lib/python3.10/site-packages/matplotlib/mpl-data/fonts/ttf/DejaVuSerif-Italic.ttf', name='DejaVu Serif', style='italic', variant='normal', weight=400, stretch='normal', size='scalable')) = 11.05\n",
      "2024-02-22 09:36:07,235 | DEBUG | font_manager.py:1423 | findfont: score(FontEntry(fname='/home/ubuntu/.virtualenvs/CredSweeper2/lib/python3.10/site-packages/matplotlib/mpl-data/fonts/ttf/DejaVuSerif.ttf', name='DejaVu Serif', style='normal', variant='normal', weight=400, stretch='normal', size='scalable')) = 10.05\n",
      "2024-02-22 09:36:07,238 | DEBUG | font_manager.py:1423 | findfont: score(FontEntry(fname='/home/ubuntu/.virtualenvs/CredSweeper2/lib/python3.10/site-packages/matplotlib/mpl-data/fonts/ttf/STIXSizFourSymReg.ttf', name='STIXSizeFourSym', style='normal', variant='normal', weight=400, stretch='normal', size='scalable')) = 10.05\n",
      "2024-02-22 09:36:07,251 | DEBUG | font_manager.py:1423 | findfont: score(FontEntry(fname='/home/ubuntu/.virtualenvs/CredSweeper2/lib/python3.10/site-packages/matplotlib/mpl-data/fonts/ttf/STIXNonUniIta.ttf', name='STIXNonUnicode', style='italic', variant='normal', weight=400, stretch='normal', size='scalable')) = 11.05\n",
      "2024-02-22 09:36:07,253 | DEBUG | font_manager.py:1423 | findfont: score(FontEntry(fname='/home/ubuntu/.virtualenvs/CredSweeper2/lib/python3.10/site-packages/matplotlib/mpl-data/fonts/ttf/DejaVuSans.ttf', name='DejaVu Sans', style='normal', variant='normal', weight=400, stretch='normal', size='scalable')) = 0.05\n",
      "2024-02-22 09:36:07,256 | DEBUG | font_manager.py:1423 | findfont: score(FontEntry(fname='/home/ubuntu/.virtualenvs/CredSweeper2/lib/python3.10/site-packages/matplotlib/mpl-data/fonts/ttf/DejaVuSerifDisplay.ttf', name='DejaVu Serif Display', style='normal', variant='normal', weight=400, stretch='normal', size='scalable')) = 10.05\n",
      "2024-02-22 09:36:07,260 | DEBUG | font_manager.py:1423 | findfont: score(FontEntry(fname='/home/ubuntu/.virtualenvs/CredSweeper2/lib/python3.10/site-packages/matplotlib/mpl-data/fonts/ttf/STIXNonUniBol.ttf', name='STIXNonUnicode', style='normal', variant='normal', weight=700, stretch='normal', size='scalable')) = 10.335\n",
      "2024-02-22 09:36:07,262 | DEBUG | font_manager.py:1423 | findfont: score(FontEntry(fname='/home/ubuntu/.virtualenvs/CredSweeper2/lib/python3.10/site-packages/matplotlib/mpl-data/fonts/ttf/STIXSizThreeSymBol.ttf', name='STIXSizeThreeSym', style='normal', variant='normal', weight=700, stretch='normal', size='scalable')) = 10.335\n",
      "2024-02-22 09:36:07,263 | DEBUG | font_manager.py:1423 | findfont: score(FontEntry(fname='/home/ubuntu/.virtualenvs/CredSweeper2/lib/python3.10/site-packages/matplotlib/mpl-data/fonts/ttf/cmmi10.ttf', name='cmmi10', style='normal', variant='normal', weight=400, stretch='normal', size='scalable')) = 10.05\n",
      "2024-02-22 09:36:07,266 | DEBUG | font_manager.py:1423 | findfont: score(FontEntry(fname='/home/ubuntu/.virtualenvs/CredSweeper2/lib/python3.10/site-packages/matplotlib/mpl-data/fonts/ttf/DejaVuSansMono-Bold.ttf', name='DejaVu Sans Mono', style='normal', variant='normal', weight=700, stretch='normal', size='scalable')) = 10.335\n",
      "2024-02-22 09:36:07,270 | DEBUG | font_manager.py:1423 | findfont: score(FontEntry(fname='/home/ubuntu/.virtualenvs/CredSweeper2/lib/python3.10/site-packages/matplotlib/mpl-data/fonts/ttf/DejaVuSerif-Bold.ttf', name='DejaVu Serif', style='normal', variant='normal', weight=700, stretch='normal', size='scalable')) = 10.335\n",
      "2024-02-22 09:36:07,272 | DEBUG | font_manager.py:1423 | findfont: score(FontEntry(fname='/home/ubuntu/.virtualenvs/CredSweeper2/lib/python3.10/site-packages/matplotlib/mpl-data/fonts/ttf/STIXSizOneSymBol.ttf', name='STIXSizeOneSym', style='normal', variant='normal', weight=700, stretch='normal', size='scalable')) = 10.335\n",
      "2024-02-22 09:36:07,274 | DEBUG | font_manager.py:1423 | findfont: score(FontEntry(fname='/home/ubuntu/.virtualenvs/CredSweeper2/lib/python3.10/site-packages/matplotlib/mpl-data/fonts/ttf/DejaVuSansMono-BoldOblique.ttf', name='DejaVu Sans Mono', style='oblique', variant='normal', weight=700, stretch='normal', size='scalable')) = 11.335\n",
      "2024-02-22 09:36:07,275 | DEBUG | font_manager.py:1423 | findfont: score(FontEntry(fname='/usr/share/fonts/truetype/ubuntu/Ubuntu-M.ttf', name='Ubuntu', style='normal', variant='normal', weight=500, stretch='normal', size='scalable')) = 10.145\n",
      "2024-02-22 09:36:07,277 | DEBUG | font_manager.py:1423 | findfont: score(FontEntry(fname='/usr/share/fonts/truetype/ubuntu/Ubuntu-BI.ttf', name='Ubuntu', style='italic', variant='normal', weight=700, stretch='normal', size='scalable')) = 11.335\n",
      "2024-02-22 09:36:07,281 | DEBUG | font_manager.py:1423 | findfont: score(FontEntry(fname='/usr/share/fonts/truetype/ubuntu/Ubuntu-LI.ttf', name='Ubuntu', style='italic', variant='normal', weight=300, stretch='normal', size='scalable')) = 11.145\n",
      "2024-02-22 09:36:07,283 | DEBUG | font_manager.py:1423 | findfont: score(FontEntry(fname='/usr/share/fonts/truetype/ubuntu/Ubuntu-RI.ttf', name='Ubuntu', style='italic', variant='normal', weight=400, stretch='normal', size='scalable')) = 11.05\n",
      "2024-02-22 09:36:07,284 | DEBUG | font_manager.py:1423 | findfont: score(FontEntry(fname='/usr/share/fonts/truetype/ubuntu/UbuntuMono-R.ttf', name='Ubuntu Mono', style='normal', variant='normal', weight=400, stretch='normal', size='scalable')) = 10.05\n",
      "2024-02-22 09:36:07,286 | DEBUG | font_manager.py:1423 | findfont: score(FontEntry(fname='/usr/share/fonts/truetype/dejavu/DejaVuSans.ttf', name='DejaVu Sans', style='normal', variant='normal', weight=400, stretch='normal', size='scalable')) = 0.05\n",
      "2024-02-22 09:36:07,287 | DEBUG | font_manager.py:1423 | findfont: score(FontEntry(fname='/usr/share/fonts/truetype/ubuntu/Ubuntu-MI.ttf', name='Ubuntu', style='italic', variant='normal', weight=500, stretch='normal', size='scalable')) = 11.145\n",
      "2024-02-22 09:36:07,288 | DEBUG | font_manager.py:1423 | findfont: score(FontEntry(fname='/usr/share/fonts/truetype/ubuntu/UbuntuMono-RI.ttf', name='Ubuntu Mono', style='italic', variant='normal', weight=400, stretch='normal', size='scalable')) = 11.05\n",
      "2024-02-22 09:36:07,290 | DEBUG | font_manager.py:1423 | findfont: score(FontEntry(fname='/usr/share/fonts/truetype/ubuntu/Ubuntu-B.ttf', name='Ubuntu', style='normal', variant='normal', weight=700, stretch='normal', size='scalable')) = 10.335\n",
      "2024-02-22 09:36:07,292 | DEBUG | font_manager.py:1423 | findfont: score(FontEntry(fname='/usr/share/fonts/truetype/ubuntu/Ubuntu-L.ttf', name='Ubuntu', style='normal', variant='normal', weight=300, stretch='normal', size='scalable')) = 10.145\n",
      "2024-02-22 09:36:07,293 | DEBUG | font_manager.py:1423 | findfont: score(FontEntry(fname='/usr/share/fonts/truetype/dejavu/DejaVuSansMono-Bold.ttf', name='DejaVu Sans Mono', style='normal', variant='normal', weight=700, stretch='normal', size='scalable')) = 10.335\n",
      "2024-02-22 09:36:07,295 | DEBUG | font_manager.py:1423 | findfont: score(FontEntry(fname='/usr/share/fonts/truetype/dejavu/DejaVuSans-Bold.ttf', name='DejaVu Sans', style='normal', variant='normal', weight=700, stretch='normal', size='scalable')) = 0.33499999999999996\n",
      "2024-02-22 09:36:07,296 | DEBUG | font_manager.py:1423 | findfont: score(FontEntry(fname='/usr/share/fonts/truetype/dejavu/DejaVuSerif.ttf', name='DejaVu Serif', style='normal', variant='normal', weight=400, stretch='normal', size='scalable')) = 10.05\n",
      "2024-02-22 09:36:07,298 | DEBUG | font_manager.py:1423 | findfont: score(FontEntry(fname='/usr/share/fonts/truetype/dejavu/DejaVuSansMono.ttf', name='DejaVu Sans Mono', style='normal', variant='normal', weight=400, stretch='normal', size='scalable')) = 10.05\n",
      "2024-02-22 09:36:07,300 | DEBUG | font_manager.py:1423 | findfont: score(FontEntry(fname='/usr/share/fonts/truetype/ubuntu/UbuntuMono-BI.ttf', name='Ubuntu Mono', style='italic', variant='normal', weight=700, stretch='normal', size='scalable')) = 11.335\n",
      "2024-02-22 09:36:07,301 | DEBUG | font_manager.py:1423 | findfont: score(FontEntry(fname='/usr/share/fonts/truetype/ubuntu/Ubuntu-Th.ttf', name='Ubuntu', style='normal', variant='normal', weight=250, stretch='normal', size='scalable')) = 10.1925\n",
      "2024-02-22 09:36:07,302 | DEBUG | font_manager.py:1423 | findfont: score(FontEntry(fname='/usr/share/fonts/truetype/ubuntu/Ubuntu-R.ttf', name='Ubuntu', style='normal', variant='normal', weight=400, stretch='normal', size='scalable')) = 10.05\n",
      "2024-02-22 09:36:07,303 | DEBUG | font_manager.py:1423 | findfont: score(FontEntry(fname='/usr/share/fonts/truetype/ubuntu/UbuntuMono-B.ttf', name='Ubuntu Mono', style='normal', variant='normal', weight=700, stretch='normal', size='scalable')) = 10.335\n",
      "2024-02-22 09:36:07,305 | DEBUG | font_manager.py:1423 | findfont: score(FontEntry(fname='/usr/share/fonts/truetype/dejavu/DejaVuSerif-Bold.ttf', name='DejaVu Serif', style='normal', variant='normal', weight=700, stretch='normal', size='scalable')) = 10.335\n",
      "2024-02-22 09:36:07,307 | DEBUG | font_manager.py:1423 | findfont: score(FontEntry(fname='/usr/share/fonts/truetype/ubuntu/Ubuntu-C.ttf', name='Ubuntu Condensed', style='normal', variant='normal', weight=400, stretch='condensed', size='scalable')) = 10.25\n",
      "2024-02-22 09:36:07,308 | DEBUG | font_manager.py:1454 | findfont: Matching sans\\-serif:style=normal:variant=normal:weight=normal:stretch=normal:size=10.0 to DejaVu Sans ('/home/ubuntu/.virtualenvs/CredSweeper2/lib/python3.10/site-packages/matplotlib/mpl-data/fonts/ttf/DejaVuSans.ttf') with score of 0.050000.\n",
      "2024-02-22 09:36:07,378 | DEBUG | font_manager.py:1411 | findfont: Matching sans\\-serif:style=normal:variant=normal:weight=normal:stretch=normal:size=12.0.\n",
      "2024-02-22 09:36:07,379 | DEBUG | font_manager.py:1423 | findfont: score(FontEntry(fname='/home/ubuntu/.virtualenvs/CredSweeper2/lib/python3.10/site-packages/matplotlib/mpl-data/fonts/ttf/STIXSizOneSymReg.ttf', name='STIXSizeOneSym', style='normal', variant='normal', weight=400, stretch='normal', size='scalable')) = 10.05\n",
      "2024-02-22 09:36:07,381 | DEBUG | font_manager.py:1423 | findfont: score(FontEntry(fname='/home/ubuntu/.virtualenvs/CredSweeper2/lib/python3.10/site-packages/matplotlib/mpl-data/fonts/ttf/DejaVuSans-Oblique.ttf', name='DejaVu Sans', style='oblique', variant='normal', weight=400, stretch='normal', size='scalable')) = 1.05\n",
      "2024-02-22 09:36:07,382 | DEBUG | font_manager.py:1423 | findfont: score(FontEntry(fname='/home/ubuntu/.virtualenvs/CredSweeper2/lib/python3.10/site-packages/matplotlib/mpl-data/fonts/ttf/cmb10.ttf', name='cmb10', style='normal', variant='normal', weight=400, stretch='normal', size='scalable')) = 10.05\n",
      "2024-02-22 09:36:07,384 | DEBUG | font_manager.py:1423 | findfont: score(FontEntry(fname='/home/ubuntu/.virtualenvs/CredSweeper2/lib/python3.10/site-packages/matplotlib/mpl-data/fonts/ttf/STIXGeneralBolIta.ttf', name='STIXGeneral', style='italic', variant='normal', weight=700, stretch='normal', size='scalable')) = 11.335\n",
      "2024-02-22 09:36:07,386 | DEBUG | font_manager.py:1423 | findfont: score(FontEntry(fname='/home/ubuntu/.virtualenvs/CredSweeper2/lib/python3.10/site-packages/matplotlib/mpl-data/fonts/ttf/STIXSizFiveSymReg.ttf', name='STIXSizeFiveSym', style='normal', variant='normal', weight=400, stretch='normal', size='scalable')) = 10.05\n",
      "2024-02-22 09:36:07,387 | DEBUG | font_manager.py:1423 | findfont: score(FontEntry(fname='/home/ubuntu/.virtualenvs/CredSweeper2/lib/python3.10/site-packages/matplotlib/mpl-data/fonts/ttf/STIXSizTwoSymBol.ttf', name='STIXSizeTwoSym', style='normal', variant='normal', weight=700, stretch='normal', size='scalable')) = 10.335\n",
      "2024-02-22 09:36:07,389 | DEBUG | font_manager.py:1423 | findfont: score(FontEntry(fname='/home/ubuntu/.virtualenvs/CredSweeper2/lib/python3.10/site-packages/matplotlib/mpl-data/fonts/ttf/cmr10.ttf', name='cmr10', style='normal', variant='normal', weight=400, stretch='normal', size='scalable')) = 10.05\n",
      "2024-02-22 09:36:07,390 | DEBUG | font_manager.py:1423 | findfont: score(FontEntry(fname='/home/ubuntu/.virtualenvs/CredSweeper2/lib/python3.10/site-packages/matplotlib/mpl-data/fonts/ttf/DejaVuSansMono.ttf', name='DejaVu Sans Mono', style='normal', variant='normal', weight=400, stretch='normal', size='scalable')) = 10.05\n",
      "2024-02-22 09:36:07,392 | DEBUG | font_manager.py:1423 | findfont: score(FontEntry(fname='/home/ubuntu/.virtualenvs/CredSweeper2/lib/python3.10/site-packages/matplotlib/mpl-data/fonts/ttf/STIXGeneralItalic.ttf', name='STIXGeneral', style='italic', variant='normal', weight=400, stretch='normal', size='scalable')) = 11.05\n",
      "2024-02-22 09:36:07,394 | DEBUG | font_manager.py:1423 | findfont: score(FontEntry(fname='/home/ubuntu/.virtualenvs/CredSweeper2/lib/python3.10/site-packages/matplotlib/mpl-data/fonts/ttf/STIXNonUni.ttf', name='STIXNonUnicode', style='normal', variant='normal', weight=400, stretch='normal', size='scalable')) = 10.05\n",
      "2024-02-22 09:36:07,399 | DEBUG | font_manager.py:1423 | findfont: score(FontEntry(fname='/home/ubuntu/.virtualenvs/CredSweeper2/lib/python3.10/site-packages/matplotlib/mpl-data/fonts/ttf/DejaVuSansDisplay.ttf', name='DejaVu Sans Display', style='normal', variant='normal', weight=400, stretch='normal', size='scalable')) = 10.05\n",
      "2024-02-22 09:36:07,400 | DEBUG | font_manager.py:1423 | findfont: score(FontEntry(fname='/home/ubuntu/.virtualenvs/CredSweeper2/lib/python3.10/site-packages/matplotlib/mpl-data/fonts/ttf/cmss10.ttf', name='cmss10', style='normal', variant='normal', weight=400, stretch='normal', size='scalable')) = 10.05\n",
      "2024-02-22 09:36:07,405 | DEBUG | font_manager.py:1423 | findfont: score(FontEntry(fname='/home/ubuntu/.virtualenvs/CredSweeper2/lib/python3.10/site-packages/matplotlib/mpl-data/fonts/ttf/STIXSizThreeSymReg.ttf', name='STIXSizeThreeSym', style='normal', variant='normal', weight=400, stretch='normal', size='scalable')) = 10.05\n",
      "2024-02-22 09:36:07,406 | DEBUG | font_manager.py:1423 | findfont: score(FontEntry(fname='/home/ubuntu/.virtualenvs/CredSweeper2/lib/python3.10/site-packages/matplotlib/mpl-data/fonts/ttf/STIXNonUniBolIta.ttf', name='STIXNonUnicode', style='italic', variant='normal', weight=700, stretch='normal', size='scalable')) = 11.335\n",
      "2024-02-22 09:36:07,408 | DEBUG | font_manager.py:1423 | findfont: score(FontEntry(fname='/home/ubuntu/.virtualenvs/CredSweeper2/lib/python3.10/site-packages/matplotlib/mpl-data/fonts/ttf/STIXGeneral.ttf', name='STIXGeneral', style='normal', variant='normal', weight=400, stretch='normal', size='scalable')) = 10.05\n",
      "2024-02-22 09:36:07,409 | DEBUG | font_manager.py:1423 | findfont: score(FontEntry(fname='/home/ubuntu/.virtualenvs/CredSweeper2/lib/python3.10/site-packages/matplotlib/mpl-data/fonts/ttf/cmsy10.ttf', name='cmsy10', style='normal', variant='normal', weight=400, stretch='normal', size='scalable')) = 10.05\n",
      "2024-02-22 09:36:07,412 | DEBUG | font_manager.py:1423 | findfont: score(FontEntry(fname='/home/ubuntu/.virtualenvs/CredSweeper2/lib/python3.10/site-packages/matplotlib/mpl-data/fonts/ttf/STIXSizFourSymBol.ttf', name='STIXSizeFourSym', style='normal', variant='normal', weight=700, stretch='normal', size='scalable')) = 10.335\n",
      "2024-02-22 09:36:07,413 | DEBUG | font_manager.py:1423 | findfont: score(FontEntry(fname='/home/ubuntu/.virtualenvs/CredSweeper2/lib/python3.10/site-packages/matplotlib/mpl-data/fonts/ttf/cmex10.ttf', name='cmex10', style='normal', variant='normal', weight=400, stretch='normal', size='scalable')) = 10.05\n",
      "2024-02-22 09:36:07,415 | DEBUG | font_manager.py:1423 | findfont: score(FontEntry(fname='/home/ubuntu/.virtualenvs/CredSweeper2/lib/python3.10/site-packages/matplotlib/mpl-data/fonts/ttf/STIXSizTwoSymReg.ttf', name='STIXSizeTwoSym', style='normal', variant='normal', weight=400, stretch='normal', size='scalable')) = 10.05\n",
      "2024-02-22 09:36:07,417 | DEBUG | font_manager.py:1423 | findfont: score(FontEntry(fname='/home/ubuntu/.virtualenvs/CredSweeper2/lib/python3.10/site-packages/matplotlib/mpl-data/fonts/ttf/DejaVuSerif-BoldItalic.ttf', name='DejaVu Serif', style='italic', variant='normal', weight=700, stretch='normal', size='scalable')) = 11.335\n",
      "2024-02-22 09:36:07,418 | DEBUG | font_manager.py:1423 | findfont: score(FontEntry(fname='/home/ubuntu/.virtualenvs/CredSweeper2/lib/python3.10/site-packages/matplotlib/mpl-data/fonts/ttf/DejaVuSans-Bold.ttf', name='DejaVu Sans', style='normal', variant='normal', weight=700, stretch='normal', size='scalable')) = 0.33499999999999996\n",
      "2024-02-22 09:36:07,419 | DEBUG | font_manager.py:1423 | findfont: score(FontEntry(fname='/home/ubuntu/.virtualenvs/CredSweeper2/lib/python3.10/site-packages/matplotlib/mpl-data/fonts/ttf/DejaVuSansMono-Oblique.ttf', name='DejaVu Sans Mono', style='oblique', variant='normal', weight=400, stretch='normal', size='scalable')) = 11.05\n",
      "2024-02-22 09:36:07,421 | DEBUG | font_manager.py:1423 | findfont: score(FontEntry(fname='/home/ubuntu/.virtualenvs/CredSweeper2/lib/python3.10/site-packages/matplotlib/mpl-data/fonts/ttf/cmtt10.ttf', name='cmtt10', style='normal', variant='normal', weight=400, stretch='normal', size='scalable')) = 10.05\n",
      "2024-02-22 09:36:07,422 | DEBUG | font_manager.py:1423 | findfont: score(FontEntry(fname='/home/ubuntu/.virtualenvs/CredSweeper2/lib/python3.10/site-packages/matplotlib/mpl-data/fonts/ttf/STIXGeneralBol.ttf', name='STIXGeneral', style='normal', variant='normal', weight=700, stretch='normal', size='scalable')) = 10.335\n",
      "2024-02-22 09:36:07,424 | DEBUG | font_manager.py:1423 | findfont: score(FontEntry(fname='/home/ubuntu/.virtualenvs/CredSweeper2/lib/python3.10/site-packages/matplotlib/mpl-data/fonts/ttf/DejaVuSans-BoldOblique.ttf', name='DejaVu Sans', style='oblique', variant='normal', weight=700, stretch='normal', size='scalable')) = 1.335\n",
      "2024-02-22 09:36:07,425 | DEBUG | font_manager.py:1423 | findfont: score(FontEntry(fname='/home/ubuntu/.virtualenvs/CredSweeper2/lib/python3.10/site-packages/matplotlib/mpl-data/fonts/ttf/DejaVuSerif-Italic.ttf', name='DejaVu Serif', style='italic', variant='normal', weight=400, stretch='normal', size='scalable')) = 11.05\n",
      "2024-02-22 09:36:07,427 | DEBUG | font_manager.py:1423 | findfont: score(FontEntry(fname='/home/ubuntu/.virtualenvs/CredSweeper2/lib/python3.10/site-packages/matplotlib/mpl-data/fonts/ttf/DejaVuSerif.ttf', name='DejaVu Serif', style='normal', variant='normal', weight=400, stretch='normal', size='scalable')) = 10.05\n",
      "2024-02-22 09:36:07,428 | DEBUG | font_manager.py:1423 | findfont: score(FontEntry(fname='/home/ubuntu/.virtualenvs/CredSweeper2/lib/python3.10/site-packages/matplotlib/mpl-data/fonts/ttf/STIXSizFourSymReg.ttf', name='STIXSizeFourSym', style='normal', variant='normal', weight=400, stretch='normal', size='scalable')) = 10.05\n",
      "2024-02-22 09:36:07,429 | DEBUG | font_manager.py:1423 | findfont: score(FontEntry(fname='/home/ubuntu/.virtualenvs/CredSweeper2/lib/python3.10/site-packages/matplotlib/mpl-data/fonts/ttf/STIXNonUniIta.ttf', name='STIXNonUnicode', style='italic', variant='normal', weight=400, stretch='normal', size='scalable')) = 11.05\n",
      "2024-02-22 09:36:07,431 | DEBUG | font_manager.py:1423 | findfont: score(FontEntry(fname='/home/ubuntu/.virtualenvs/CredSweeper2/lib/python3.10/site-packages/matplotlib/mpl-data/fonts/ttf/DejaVuSans.ttf', name='DejaVu Sans', style='normal', variant='normal', weight=400, stretch='normal', size='scalable')) = 0.05\n",
      "2024-02-22 09:36:07,433 | DEBUG | font_manager.py:1423 | findfont: score(FontEntry(fname='/home/ubuntu/.virtualenvs/CredSweeper2/lib/python3.10/site-packages/matplotlib/mpl-data/fonts/ttf/DejaVuSerifDisplay.ttf', name='DejaVu Serif Display', style='normal', variant='normal', weight=400, stretch='normal', size='scalable')) = 10.05\n",
      "2024-02-22 09:36:07,434 | DEBUG | font_manager.py:1423 | findfont: score(FontEntry(fname='/home/ubuntu/.virtualenvs/CredSweeper2/lib/python3.10/site-packages/matplotlib/mpl-data/fonts/ttf/STIXNonUniBol.ttf', name='STIXNonUnicode', style='normal', variant='normal', weight=700, stretch='normal', size='scalable')) = 10.335\n",
      "2024-02-22 09:36:07,436 | DEBUG | font_manager.py:1423 | findfont: score(FontEntry(fname='/home/ubuntu/.virtualenvs/CredSweeper2/lib/python3.10/site-packages/matplotlib/mpl-data/fonts/ttf/STIXSizThreeSymBol.ttf', name='STIXSizeThreeSym', style='normal', variant='normal', weight=700, stretch='normal', size='scalable')) = 10.335\n",
      "2024-02-22 09:36:07,438 | DEBUG | font_manager.py:1423 | findfont: score(FontEntry(fname='/home/ubuntu/.virtualenvs/CredSweeper2/lib/python3.10/site-packages/matplotlib/mpl-data/fonts/ttf/cmmi10.ttf', name='cmmi10', style='normal', variant='normal', weight=400, stretch='normal', size='scalable')) = 10.05\n",
      "2024-02-22 09:36:07,439 | DEBUG | font_manager.py:1423 | findfont: score(FontEntry(fname='/home/ubuntu/.virtualenvs/CredSweeper2/lib/python3.10/site-packages/matplotlib/mpl-data/fonts/ttf/DejaVuSansMono-Bold.ttf', name='DejaVu Sans Mono', style='normal', variant='normal', weight=700, stretch='normal', size='scalable')) = 10.335\n",
      "2024-02-22 09:36:07,449 | DEBUG | font_manager.py:1423 | findfont: score(FontEntry(fname='/home/ubuntu/.virtualenvs/CredSweeper2/lib/python3.10/site-packages/matplotlib/mpl-data/fonts/ttf/DejaVuSerif-Bold.ttf', name='DejaVu Serif', style='normal', variant='normal', weight=700, stretch='normal', size='scalable')) = 10.335\n",
      "2024-02-22 09:36:07,450 | DEBUG | font_manager.py:1423 | findfont: score(FontEntry(fname='/home/ubuntu/.virtualenvs/CredSweeper2/lib/python3.10/site-packages/matplotlib/mpl-data/fonts/ttf/STIXSizOneSymBol.ttf', name='STIXSizeOneSym', style='normal', variant='normal', weight=700, stretch='normal', size='scalable')) = 10.335\n",
      "2024-02-22 09:36:07,452 | DEBUG | font_manager.py:1423 | findfont: score(FontEntry(fname='/home/ubuntu/.virtualenvs/CredSweeper2/lib/python3.10/site-packages/matplotlib/mpl-data/fonts/ttf/DejaVuSansMono-BoldOblique.ttf', name='DejaVu Sans Mono', style='oblique', variant='normal', weight=700, stretch='normal', size='scalable')) = 11.335\n",
      "2024-02-22 09:36:07,455 | DEBUG | font_manager.py:1423 | findfont: score(FontEntry(fname='/usr/share/fonts/truetype/ubuntu/Ubuntu-M.ttf', name='Ubuntu', style='normal', variant='normal', weight=500, stretch='normal', size='scalable')) = 10.145\n",
      "2024-02-22 09:36:07,458 | DEBUG | font_manager.py:1423 | findfont: score(FontEntry(fname='/usr/share/fonts/truetype/ubuntu/Ubuntu-BI.ttf', name='Ubuntu', style='italic', variant='normal', weight=700, stretch='normal', size='scalable')) = 11.335\n",
      "2024-02-22 09:36:07,463 | DEBUG | font_manager.py:1423 | findfont: score(FontEntry(fname='/usr/share/fonts/truetype/ubuntu/Ubuntu-LI.ttf', name='Ubuntu', style='italic', variant='normal', weight=300, stretch='normal', size='scalable')) = 11.145\n",
      "2024-02-22 09:36:07,467 | DEBUG | font_manager.py:1423 | findfont: score(FontEntry(fname='/usr/share/fonts/truetype/ubuntu/Ubuntu-RI.ttf', name='Ubuntu', style='italic', variant='normal', weight=400, stretch='normal', size='scalable')) = 11.05\n",
      "2024-02-22 09:36:07,469 | DEBUG | font_manager.py:1423 | findfont: score(FontEntry(fname='/usr/share/fonts/truetype/ubuntu/UbuntuMono-R.ttf', name='Ubuntu Mono', style='normal', variant='normal', weight=400, stretch='normal', size='scalable')) = 10.05\n",
      "2024-02-22 09:36:07,470 | DEBUG | font_manager.py:1423 | findfont: score(FontEntry(fname='/usr/share/fonts/truetype/dejavu/DejaVuSans.ttf', name='DejaVu Sans', style='normal', variant='normal', weight=400, stretch='normal', size='scalable')) = 0.05\n",
      "2024-02-22 09:36:07,471 | DEBUG | font_manager.py:1423 | findfont: score(FontEntry(fname='/usr/share/fonts/truetype/ubuntu/Ubuntu-MI.ttf', name='Ubuntu', style='italic', variant='normal', weight=500, stretch='normal', size='scalable')) = 11.145\n",
      "2024-02-22 09:36:07,476 | DEBUG | font_manager.py:1423 | findfont: score(FontEntry(fname='/usr/share/fonts/truetype/ubuntu/UbuntuMono-RI.ttf', name='Ubuntu Mono', style='italic', variant='normal', weight=400, stretch='normal', size='scalable')) = 11.05\n",
      "2024-02-22 09:36:07,477 | DEBUG | font_manager.py:1423 | findfont: score(FontEntry(fname='/usr/share/fonts/truetype/ubuntu/Ubuntu-B.ttf', name='Ubuntu', style='normal', variant='normal', weight=700, stretch='normal', size='scalable')) = 10.335\n",
      "2024-02-22 09:36:07,479 | DEBUG | font_manager.py:1423 | findfont: score(FontEntry(fname='/usr/share/fonts/truetype/ubuntu/Ubuntu-L.ttf', name='Ubuntu', style='normal', variant='normal', weight=300, stretch='normal', size='scalable')) = 10.145\n",
      "2024-02-22 09:36:07,480 | DEBUG | font_manager.py:1423 | findfont: score(FontEntry(fname='/usr/share/fonts/truetype/dejavu/DejaVuSansMono-Bold.ttf', name='DejaVu Sans Mono', style='normal', variant='normal', weight=700, stretch='normal', size='scalable')) = 10.335\n",
      "2024-02-22 09:36:07,482 | DEBUG | font_manager.py:1423 | findfont: score(FontEntry(fname='/usr/share/fonts/truetype/dejavu/DejaVuSans-Bold.ttf', name='DejaVu Sans', style='normal', variant='normal', weight=700, stretch='normal', size='scalable')) = 0.33499999999999996\n",
      "2024-02-22 09:36:07,483 | DEBUG | font_manager.py:1423 | findfont: score(FontEntry(fname='/usr/share/fonts/truetype/dejavu/DejaVuSerif.ttf', name='DejaVu Serif', style='normal', variant='normal', weight=400, stretch='normal', size='scalable')) = 10.05\n",
      "2024-02-22 09:36:07,486 | DEBUG | font_manager.py:1423 | findfont: score(FontEntry(fname='/usr/share/fonts/truetype/dejavu/DejaVuSansMono.ttf', name='DejaVu Sans Mono', style='normal', variant='normal', weight=400, stretch='normal', size='scalable')) = 10.05\n",
      "2024-02-22 09:36:07,487 | DEBUG | font_manager.py:1423 | findfont: score(FontEntry(fname='/usr/share/fonts/truetype/ubuntu/UbuntuMono-BI.ttf', name='Ubuntu Mono', style='italic', variant='normal', weight=700, stretch='normal', size='scalable')) = 11.335\n",
      "2024-02-22 09:36:07,489 | DEBUG | font_manager.py:1423 | findfont: score(FontEntry(fname='/usr/share/fonts/truetype/ubuntu/Ubuntu-Th.ttf', name='Ubuntu', style='normal', variant='normal', weight=250, stretch='normal', size='scalable')) = 10.1925\n",
      "2024-02-22 09:36:07,490 | DEBUG | font_manager.py:1423 | findfont: score(FontEntry(fname='/usr/share/fonts/truetype/ubuntu/Ubuntu-R.ttf', name='Ubuntu', style='normal', variant='normal', weight=400, stretch='normal', size='scalable')) = 10.05\n",
      "2024-02-22 09:36:07,491 | DEBUG | font_manager.py:1423 | findfont: score(FontEntry(fname='/usr/share/fonts/truetype/ubuntu/UbuntuMono-B.ttf', name='Ubuntu Mono', style='normal', variant='normal', weight=700, stretch='normal', size='scalable')) = 10.335\n",
      "2024-02-22 09:36:07,492 | DEBUG | font_manager.py:1423 | findfont: score(FontEntry(fname='/usr/share/fonts/truetype/dejavu/DejaVuSerif-Bold.ttf', name='DejaVu Serif', style='normal', variant='normal', weight=700, stretch='normal', size='scalable')) = 10.335\n",
      "2024-02-22 09:36:07,493 | DEBUG | font_manager.py:1423 | findfont: score(FontEntry(fname='/usr/share/fonts/truetype/ubuntu/Ubuntu-C.ttf', name='Ubuntu Condensed', style='normal', variant='normal', weight=400, stretch='condensed', size='scalable')) = 10.25\n",
      "2024-02-22 09:36:07,495 | DEBUG | font_manager.py:1454 | findfont: Matching sans\\-serif:style=normal:variant=normal:weight=normal:stretch=normal:size=12.0 to DejaVu Sans ('/home/ubuntu/.virtualenvs/CredSweeper2/lib/python3.10/site-packages/matplotlib/mpl-data/fonts/ttf/DejaVuSans.ttf') with score of 0.050000.\n"
     ]
    },
    {
     "name": "stdout",
     "output_type": "stream",
     "text": [
      "Saving model results/ml_0.619533-20240222_093550\n",
      "{'lstm_units': 178, 'dense_1_units': 147, 'activation': 'tanh', 'learning_rate': 0.01, 'epochs': 55, 'batch_size': 105}\n",
      "Epoch 1/55\n",
      "110/110 [==============================] - 32s 232ms/step - loss: 0.5070 - accuracy: 0.7781 - precision: 0.5092 - recall: 0.8145 - val_loss: 0.1524 - val_accuracy: 0.9499 - val_precision: 0.8561 - val_recall: 0.8592\n",
      "Epoch 2/55\n",
      "110/110 [==============================] - 20s 177ms/step - loss: 0.1676 - accuracy: 0.9352 - precision: 0.8001 - recall: 0.9419 - val_loss: 0.1141 - val_accuracy: 0.9588 - val_precision: 0.9549 - val_recall: 0.8032\n",
      "Epoch 3/55\n",
      "110/110 [==============================] - 19s 174ms/step - loss: 0.1090 - accuracy: 0.9633 - precision: 0.8813 - recall: 0.9632 - val_loss: 0.0985 - val_accuracy: 0.9689 - val_precision: 0.8986 - val_recall: 0.9278\n",
      "Epoch 4/55\n",
      "110/110 [==============================] - 22s 201ms/step - loss: 0.0945 - accuracy: 0.9671 - precision: 0.8916 - recall: 0.9688 - val_loss: 0.1344 - val_accuracy: 0.9518 - val_precision: 0.8036 - val_recall: 0.9603\n",
      "Epoch 5/55\n",
      "110/110 [==============================] - 24s 219ms/step - loss: 0.0785 - accuracy: 0.9730 - precision: 0.9078 - recall: 0.9771 - val_loss: 0.0950 - val_accuracy: 0.9715 - val_precision: 0.8946 - val_recall: 0.9495\n",
      "Epoch 6/55\n",
      "110/110 [==============================] - 24s 223ms/step - loss: 0.1012 - accuracy: 0.9627 - precision: 0.8767 - recall: 0.9672 - val_loss: 0.1155 - val_accuracy: 0.9635 - val_precision: 0.8523 - val_recall: 0.9585\n",
      "Epoch 7/55\n",
      "110/110 [==============================] - 19s 177ms/step - loss: 0.0747 - accuracy: 0.9737 - precision: 0.9126 - recall: 0.9743 - val_loss: 0.0928 - val_accuracy: 0.9693 - val_precision: 0.8919 - val_recall: 0.9386\n",
      "Epoch 8/55\n",
      "110/110 [==============================] - 22s 198ms/step - loss: 0.0625 - accuracy: 0.9772 - precision: 0.9212 - recall: 0.9806 - val_loss: 0.0924 - val_accuracy: 0.9680 - val_precision: 0.9485 - val_recall: 0.8646\n",
      "Epoch 9/55\n",
      "110/110 [==============================] - 22s 197ms/step - loss: 0.0553 - accuracy: 0.9786 - precision: 0.9268 - recall: 0.9806 - val_loss: 0.1054 - val_accuracy: 0.9661 - val_precision: 0.9533 - val_recall: 0.8484\n",
      "Epoch 10/55\n",
      "110/110 [==============================] - 23s 208ms/step - loss: 0.0508 - accuracy: 0.9821 - precision: 0.9385 - recall: 0.9834 - val_loss: 0.1075 - val_accuracy: 0.9712 - val_precision: 0.8891 - val_recall: 0.9549\n",
      "Epoch 11/55\n",
      "110/110 [==============================] - 20s 184ms/step - loss: 0.0329 - accuracy: 0.9894 - precision: 0.9627 - recall: 0.9901 - val_loss: 0.1032 - val_accuracy: 0.9693 - val_precision: 0.9030 - val_recall: 0.9242\n",
      "Epoch 12/55\n",
      "110/110 [==============================] - 22s 197ms/step - loss: 0.0350 - accuracy: 0.9884 - precision: 0.9597 - recall: 0.9889 - val_loss: 0.1037 - val_accuracy: 0.9677 - val_precision: 0.8818 - val_recall: 0.9422\n",
      "Epoch 13/55\n",
      "110/110 [==============================] - 18s 167ms/step - loss: 0.0265 - accuracy: 0.9921 - precision: 0.9707 - recall: 0.9941 - val_loss: 0.1270 - val_accuracy: 0.9626 - val_precision: 0.8682 - val_recall: 0.9278\n",
      "Epoch 14/55\n",
      "110/110 [==============================] - 19s 172ms/step - loss: 0.0208 - accuracy: 0.9930 - precision: 0.9752 - recall: 0.9937 - val_loss: 0.1514 - val_accuracy: 0.9658 - val_precision: 0.8717 - val_recall: 0.9440\n",
      "Epoch 15/55\n",
      "110/110 [==============================] - 19s 169ms/step - loss: 0.0248 - accuracy: 0.9911 - precision: 0.9680 - recall: 0.9925 - val_loss: 0.1389 - val_accuracy: 0.9610 - val_precision: 0.8470 - val_recall: 0.9495\n",
      "Epoch 16/55\n",
      "110/110 [==============================] - 18s 168ms/step - loss: 0.0178 - accuracy: 0.9943 - precision: 0.9790 - recall: 0.9957 - val_loss: 0.1227 - val_accuracy: 0.9670 - val_precision: 0.8920 - val_recall: 0.9242\n",
      "Epoch 17/55\n",
      "110/110 [==============================] - 18s 164ms/step - loss: 0.0118 - accuracy: 0.9964 - precision: 0.9871 - recall: 0.9968 - val_loss: 0.1297 - val_accuracy: 0.9661 - val_precision: 0.8914 - val_recall: 0.9188\n",
      "Epoch 18/55\n",
      "110/110 [==============================] - 18s 164ms/step - loss: 0.0104 - accuracy: 0.9969 - precision: 0.9890 - recall: 0.9968 - val_loss: 0.1416 - val_accuracy: 0.9696 - val_precision: 0.9060 - val_recall: 0.9224\n",
      "Epoch 19/55\n",
      "110/110 [==============================] - 18s 163ms/step - loss: 0.0086 - accuracy: 0.9969 - precision: 0.9894 - recall: 0.9968 - val_loss: 0.1326 - val_accuracy: 0.9629 - val_precision: 0.9194 - val_recall: 0.8646\n",
      "Epoch 20/55\n",
      "110/110 [==============================] - 18s 167ms/step - loss: 0.0223 - accuracy: 0.9915 - precision: 0.9706 - recall: 0.9917 - val_loss: 0.1128 - val_accuracy: 0.9702 - val_precision: 0.9167 - val_recall: 0.9134\n",
      "Epoch 21/55\n",
      "110/110 [==============================] - 18s 165ms/step - loss: 0.0195 - accuracy: 0.9923 - precision: 0.9732 - recall: 0.9925 - val_loss: 0.2396 - val_accuracy: 0.9455 - val_precision: 0.7768 - val_recall: 0.9675\n",
      "Epoch 22/55\n",
      "110/110 [==============================] - 19s 170ms/step - loss: 0.0114 - accuracy: 0.9955 - precision: 0.9828 - recall: 0.9968 - val_loss: 0.1232 - val_accuracy: 0.9705 - val_precision: 0.9183 - val_recall: 0.9134\n",
      "Epoch 23/55\n",
      "110/110 [==============================] - 19s 169ms/step - loss: 0.0276 - accuracy: 0.9900 - precision: 0.9646 - recall: 0.9909 - val_loss: 0.1457 - val_accuracy: 0.9616 - val_precision: 0.9093 - val_recall: 0.8682\n",
      "Epoch 24/55\n",
      "110/110 [==============================] - 19s 173ms/step - loss: 0.0189 - accuracy: 0.9940 - precision: 0.9790 - recall: 0.9941 - val_loss: 0.1457 - val_accuracy: 0.9670 - val_precision: 0.9032 - val_recall: 0.9097\n",
      "Epoch 25/55\n",
      "110/110 [==============================] - 20s 179ms/step - loss: 0.0241 - accuracy: 0.9924 - precision: 0.9733 - recall: 0.9929 - val_loss: 0.1682 - val_accuracy: 0.9594 - val_precision: 0.8538 - val_recall: 0.9278\n",
      "Epoch 26/55\n",
      "110/110 [==============================] - 24s 219ms/step - loss: 0.0155 - accuracy: 0.9950 - precision: 0.9836 - recall: 0.9941 - val_loss: 0.1652 - val_accuracy: 0.9569 - val_precision: 0.8349 - val_recall: 0.9404\n",
      "Epoch 27/55\n",
      "110/110 [==============================] - 23s 211ms/step - loss: 0.0074 - accuracy: 0.9970 - precision: 0.9902 - recall: 0.9964 - val_loss: 0.1451 - val_accuracy: 0.9686 - val_precision: 0.8998 - val_recall: 0.9242\n",
      "Epoch 28/55\n",
      "110/110 [==============================] - 22s 200ms/step - loss: 0.0068 - accuracy: 0.9976 - precision: 0.9914 - recall: 0.9980 - val_loss: 0.1625 - val_accuracy: 0.9645 - val_precision: 0.9368 - val_recall: 0.8556\n",
      "Epoch 29/55\n",
      "110/110 [==============================] - 22s 195ms/step - loss: 0.0129 - accuracy: 0.9962 - precision: 0.9871 - recall: 0.9960 - val_loss: 0.1594 - val_accuracy: 0.9667 - val_precision: 0.9293 - val_recall: 0.8773\n",
      "Epoch 30/55\n",
      "110/110 [==============================] - 22s 204ms/step - loss: 0.0139 - accuracy: 0.9948 - precision: 0.9817 - recall: 0.9949 - val_loss: 0.1352 - val_accuracy: 0.9667 - val_precision: 0.8877 - val_recall: 0.9278\n",
      "Epoch 31/55\n",
      "110/110 [==============================] - 23s 209ms/step - loss: 0.0099 - accuracy: 0.9964 - precision: 0.9878 - recall: 0.9960 - val_loss: 0.1294 - val_accuracy: 0.9683 - val_precision: 0.9083 - val_recall: 0.9116\n",
      "Epoch 32/55\n",
      "110/110 [==============================] - 22s 198ms/step - loss: 0.0067 - accuracy: 0.9977 - precision: 0.9917 - recall: 0.9980 - val_loss: 0.1644 - val_accuracy: 0.9699 - val_precision: 0.8819 - val_recall: 0.9567\n",
      "Epoch 33/55\n",
      "110/110 [==============================] - 23s 208ms/step - loss: 0.0039 - accuracy: 0.9988 - precision: 0.9961 - recall: 0.9984 - val_loss: 0.1687 - val_accuracy: 0.9674 - val_precision: 0.8842 - val_recall: 0.9368\n",
      "Epoch 34/55\n",
      "110/110 [==============================] - 21s 192ms/step - loss: 0.0038 - accuracy: 0.9984 - precision: 0.9945 - recall: 0.9984 - val_loss: 0.1691 - val_accuracy: 0.9696 - val_precision: 0.9241 - val_recall: 0.9007\n",
      "Epoch 35/55\n",
      "110/110 [==============================] - 20s 179ms/step - loss: 0.0050 - accuracy: 0.9986 - precision: 0.9961 - recall: 0.9976 - val_loss: 0.1629 - val_accuracy: 0.9696 - val_precision: 0.9075 - val_recall: 0.9206\n",
      "Epoch 36/55\n",
      "110/110 [==============================] - 22s 197ms/step - loss: 0.0032 - accuracy: 0.9988 - precision: 0.9953 - recall: 0.9992 - val_loss: 0.1849 - val_accuracy: 0.9664 - val_precision: 0.8810 - val_recall: 0.9350\n",
      "Epoch 37/55\n",
      "110/110 [==============================] - 22s 196ms/step - loss: 0.0038 - accuracy: 0.9987 - precision: 0.9964 - recall: 0.9976 - val_loss: 0.2082 - val_accuracy: 0.9629 - val_precision: 0.8496 - val_recall: 0.9585\n",
      "Epoch 38/55\n",
      "110/110 [==============================] - 20s 182ms/step - loss: 0.0032 - accuracy: 0.9989 - precision: 0.9961 - recall: 0.9988 - val_loss: 0.2371 - val_accuracy: 0.9597 - val_precision: 0.8373 - val_recall: 0.9567\n",
      "Epoch 39/55\n",
      "110/110 [==============================] - 22s 198ms/step - loss: 0.0042 - accuracy: 0.9982 - precision: 0.9937 - recall: 0.9980 - val_loss: 0.1695 - val_accuracy: 0.9670 - val_precision: 0.9278 - val_recall: 0.8809\n",
      "Epoch 40/55\n",
      "110/110 [==============================] - 23s 206ms/step - loss: 0.0083 - accuracy: 0.9972 - precision: 0.9894 - recall: 0.9980 - val_loss: 0.1748 - val_accuracy: 0.9623 - val_precision: 0.8731 - val_recall: 0.9188\n",
      "Epoch 41/55\n",
      "110/110 [==============================] - 22s 202ms/step - loss: 0.0103 - accuracy: 0.9963 - precision: 0.9878 - recall: 0.9957 - val_loss: 0.1757 - val_accuracy: 0.9655 - val_precision: 0.9287 - val_recall: 0.8700\n",
      "Epoch 42/55\n",
      "110/110 [==============================] - 22s 203ms/step - loss: 0.0306 - accuracy: 0.9895 - precision: 0.9645 - recall: 0.9889 - val_loss: 0.1200 - val_accuracy: 0.9655 - val_precision: 0.9009 - val_recall: 0.9025\n",
      "Epoch 43/55\n",
      "110/110 [==============================] - 21s 194ms/step - loss: 0.0153 - accuracy: 0.9942 - precision: 0.9794 - recall: 0.9945 - val_loss: 0.1706 - val_accuracy: 0.9540 - val_precision: 0.8484 - val_recall: 0.8989\n",
      "Epoch 44/55\n",
      "110/110 [==============================] - 23s 210ms/step - loss: 0.0690 - accuracy: 0.9764 - precision: 0.9191 - recall: 0.9794 - val_loss: 0.2249 - val_accuracy: 0.9290 - val_precision: 0.9769 - val_recall: 0.6101\n",
      "Epoch 45/55\n",
      "110/110 [==============================] - 22s 201ms/step - loss: 0.2762 - accuracy: 0.9018 - precision: 0.7206 - recall: 0.9067 - val_loss: 0.3820 - val_accuracy: 0.8361 - val_precision: 0.5186 - val_recall: 0.9296\n",
      "Epoch 46/55\n",
      "110/110 [==============================] - 23s 212ms/step - loss: 0.1651 - accuracy: 0.9342 - precision: 0.7963 - recall: 0.9431 - val_loss: 0.2730 - val_accuracy: 0.8799 - val_precision: 0.6040 - val_recall: 0.9170\n",
      "Epoch 47/55\n",
      "110/110 [==============================] - 23s 211ms/step - loss: 0.1432 - accuracy: 0.9404 - precision: 0.8114 - recall: 0.9510 - val_loss: 0.2328 - val_accuracy: 0.9090 - val_precision: 0.6904 - val_recall: 0.8736\n",
      "Epoch 48/55\n",
      "110/110 [==============================] - 23s 206ms/step - loss: 0.1279 - accuracy: 0.9476 - precision: 0.8313 - recall: 0.9569 - val_loss: 0.1832 - val_accuracy: 0.9293 - val_precision: 0.7763 - val_recall: 0.8394\n",
      "Epoch 49/55\n",
      "110/110 [==============================] - 21s 192ms/step - loss: 0.1175 - accuracy: 0.9549 - precision: 0.8517 - recall: 0.9632 - val_loss: 0.2737 - val_accuracy: 0.8846 - val_precision: 0.6145 - val_recall: 0.9206\n",
      "Epoch 50/55\n",
      "110/110 [==============================] - 22s 204ms/step - loss: 0.1115 - accuracy: 0.9550 - precision: 0.8528 - recall: 0.9624 - val_loss: 0.1825 - val_accuracy: 0.9350 - val_precision: 0.7894 - val_recall: 0.8592\n",
      "Epoch 51/55\n",
      "110/110 [==============================] - 22s 200ms/step - loss: 0.1038 - accuracy: 0.9580 - precision: 0.8626 - recall: 0.9632 - val_loss: 0.2759 - val_accuracy: 0.8998 - val_precision: 0.6537 - val_recall: 0.9134\n",
      "Epoch 52/55\n",
      "110/110 [==============================] - 21s 194ms/step - loss: 0.0971 - accuracy: 0.9597 - precision: 0.8651 - recall: 0.9684 - val_loss: 0.2243 - val_accuracy: 0.9176 - val_precision: 0.7100 - val_recall: 0.8971\n",
      "Epoch 53/55\n",
      "110/110 [==============================] - 21s 187ms/step - loss: 0.0944 - accuracy: 0.9624 - precision: 0.8699 - recall: 0.9755 - val_loss: 0.2433 - val_accuracy: 0.9087 - val_precision: 0.6807 - val_recall: 0.9043\n",
      "Epoch 54/55\n",
      "110/110 [==============================] - 21s 187ms/step - loss: 0.0825 - accuracy: 0.9666 - precision: 0.8862 - recall: 0.9735 - val_loss: 0.2017 - val_accuracy: 0.9195 - val_precision: 0.7246 - val_recall: 0.8736\n",
      "Epoch 55/55\n",
      "110/110 [==============================] - 21s 189ms/step - loss: 0.0796 - accuracy: 0.9680 - precision: 0.8888 - recall: 0.9771 - val_loss: 0.2171 - val_accuracy: 0.9217 - val_precision: 0.7254 - val_recall: 0.8917\n",
      "Min training loss=0.003188316011801362, min validation loss=0.09241655468940735\n",
      "99/99 [==============================] - 5s 39ms/step\n",
      "Results on test with model:\n",
      "TP : 494, FP : 187, TN : 12799, FN : 245, FPR : 0.014400, FNR : 0.331529, PRC : 0.725404, RCL : 0.668471, F1 : 0.695775\n",
      "INFO:tensorflow:Assets written to: results/ml_0.695775-20240222_095548/model/assets\n"
     ]
    },
    {
     "name": "stderr",
     "output_type": "stream",
     "text": [
      "2024-02-22 09:56:05,615 | INFO | builder_impl.py:801 | Assets written to: results/ml_0.695775-20240222_095548/model/assets\n"
     ]
    },
    {
     "name": "stdout",
     "output_type": "stream",
     "text": [
      "Saving model results/ml_0.695775-20240222_095548\n",
      "{'lstm_units': 122, 'dense_1_units': 230, 'activation': 'relu', 'learning_rate': 0.0001, 'epochs': 18, 'batch_size': 112}\n",
      "Epoch 1/18\n",
      "103/103 [==============================] - 27s 170ms/step - loss: 0.5670 - accuracy: 0.6745 - precision: 0.4236 - recall: 0.8031 - val_loss: 0.3673 - val_accuracy: 0.9040 - val_precision: 0.8838 - val_recall: 0.5217\n",
      "Epoch 2/18\n",
      "103/103 [==============================] - 13s 130ms/step - loss: 0.3791 - accuracy: 0.8784 - precision: 0.6968 - recall: 0.7952 - val_loss: 0.2415 - val_accuracy: 0.9480 - val_precision: 0.9392 - val_recall: 0.7527\n",
      "Epoch 3/18\n",
      "103/103 [==============================] - 13s 127ms/step - loss: 0.2516 - accuracy: 0.9290 - precision: 0.8038 - recall: 0.8972 - val_loss: 0.2490 - val_accuracy: 0.9360 - val_precision: 0.7521 - val_recall: 0.9477\n",
      "Epoch 4/18\n",
      "103/103 [==============================] - 14s 132ms/step - loss: 0.2043 - accuracy: 0.9407 - precision: 0.8266 - recall: 0.9257 - val_loss: 0.1678 - val_accuracy: 0.9651 - val_precision: 0.8868 - val_recall: 0.9188\n",
      "Epoch 5/18\n",
      "103/103 [==============================] - 14s 133ms/step - loss: 0.1947 - accuracy: 0.9397 - precision: 0.8165 - recall: 0.9375 - val_loss: 0.1384 - val_accuracy: 0.9674 - val_precision: 0.9168 - val_recall: 0.8953\n",
      "Epoch 6/18\n",
      "103/103 [==============================] - 17s 169ms/step - loss: 0.1712 - accuracy: 0.9478 - precision: 0.8401 - recall: 0.9431 - val_loss: 0.1807 - val_accuracy: 0.9461 - val_precision: 0.7849 - val_recall: 0.9549\n",
      "Epoch 7/18\n",
      "103/103 [==============================] - 15s 145ms/step - loss: 0.1596 - accuracy: 0.9508 - precision: 0.8478 - recall: 0.9470 - val_loss: 0.1383 - val_accuracy: 0.9632 - val_precision: 0.8662 - val_recall: 0.9350\n",
      "Epoch 8/18\n",
      "103/103 [==============================] - 14s 138ms/step - loss: 0.1535 - accuracy: 0.9511 - precision: 0.8465 - recall: 0.9510 - val_loss: 0.1462 - val_accuracy: 0.9544 - val_precision: 0.8223 - val_recall: 0.9440\n",
      "Epoch 9/18\n",
      "103/103 [==============================] - 15s 142ms/step - loss: 0.1477 - accuracy: 0.9542 - precision: 0.8551 - recall: 0.9541 - val_loss: 0.1352 - val_accuracy: 0.9585 - val_precision: 0.8406 - val_recall: 0.9422\n",
      "Epoch 10/18\n",
      "103/103 [==============================] - 16s 160ms/step - loss: 0.1430 - accuracy: 0.9544 - precision: 0.8550 - recall: 0.9557 - val_loss: 0.1389 - val_accuracy: 0.9572 - val_precision: 0.8310 - val_recall: 0.9495\n",
      "Epoch 11/18\n",
      "103/103 [==============================] - 14s 131ms/step - loss: 0.1390 - accuracy: 0.9531 - precision: 0.8512 - recall: 0.9545 - val_loss: 0.1226 - val_accuracy: 0.9613 - val_precision: 0.8529 - val_recall: 0.9422\n",
      "Epoch 12/18\n",
      "103/103 [==============================] - 17s 163ms/step - loss: 0.1352 - accuracy: 0.9548 - precision: 0.8564 - recall: 0.9553 - val_loss: 0.1443 - val_accuracy: 0.9521 - val_precision: 0.8095 - val_recall: 0.9513\n",
      "Epoch 13/18\n",
      "103/103 [==============================] - 16s 153ms/step - loss: 0.1333 - accuracy: 0.9538 - precision: 0.8506 - recall: 0.9593 - val_loss: 0.1127 - val_accuracy: 0.9651 - val_precision: 0.8725 - val_recall: 0.9386\n",
      "Epoch 14/18\n",
      "103/103 [==============================] - 15s 146ms/step - loss: 0.1316 - accuracy: 0.9545 - precision: 0.8550 - recall: 0.9561 - val_loss: 0.1152 - val_accuracy: 0.9620 - val_precision: 0.8593 - val_recall: 0.9368\n",
      "Epoch 15/18\n",
      "103/103 [==============================] - 16s 160ms/step - loss: 0.1257 - accuracy: 0.9550 - precision: 0.8540 - recall: 0.9601 - val_loss: 0.1174 - val_accuracy: 0.9597 - val_precision: 0.8460 - val_recall: 0.9422\n",
      "Epoch 16/18\n",
      "103/103 [==============================] - 19s 185ms/step - loss: 0.1242 - accuracy: 0.9559 - precision: 0.8558 - recall: 0.9624 - val_loss: 0.1245 - val_accuracy: 0.9569 - val_precision: 0.8317 - val_recall: 0.9458\n",
      "Epoch 17/18\n",
      "103/103 [==============================] - 17s 169ms/step - loss: 0.1231 - accuracy: 0.9561 - precision: 0.8585 - recall: 0.9593 - val_loss: 0.1145 - val_accuracy: 0.9607 - val_precision: 0.8513 - val_recall: 0.9404\n",
      "Epoch 18/18\n",
      "103/103 [==============================] - 19s 181ms/step - loss: 0.1197 - accuracy: 0.9572 - precision: 0.8586 - recall: 0.9652 - val_loss: 0.1086 - val_accuracy: 0.9620 - val_precision: 0.8629 - val_recall: 0.9314\n",
      "Min training loss=0.1196984276175499, min validation loss=0.1086200401186943\n",
      "99/99 [==============================] - 4s 32ms/step\n",
      "Results on test with model:\n",
      "TP : 516, FP : 82, TN : 12904, FN : 223, FPR : 0.006314, FNR : 0.301759, PRC : 0.862876, RCL : 0.698241, F1 : 0.771877\n",
      "INFO:tensorflow:Assets written to: results/ml_0.771877-20240222_100223/model/assets\n"
     ]
    },
    {
     "name": "stderr",
     "output_type": "stream",
     "text": [
      "2024-02-22 10:02:42,640 | INFO | builder_impl.py:801 | Assets written to: results/ml_0.771877-20240222_100223/model/assets\n"
     ]
    },
    {
     "name": "stdout",
     "output_type": "stream",
     "text": [
      "Saving model results/ml_0.771877-20240222_100223\n",
      "{'lstm_units': 262, 'dense_1_units': 148, 'activation': 'softmax', 'learning_rate': 1e-05, 'epochs': 17, 'batch_size': 106}\n",
      "Epoch 1/17\n",
      "109/109 [==============================] - 42s 298ms/step - loss: 0.6937 - accuracy: 0.7793 - precision: 0.8629 - recall: 0.1674 - val_loss: 0.6898 - val_accuracy: 0.8241 - val_precision: 0.0000e+00 - val_recall: 0.0000e+00\n",
      "Epoch 2/17\n",
      "109/109 [==============================] - 33s 303ms/step - loss: 0.6932 - accuracy: 0.7793 - precision: 1.0000 - recall: 3.9541e-04 - val_loss: 0.6896 - val_accuracy: 0.8241 - val_precision: 0.0000e+00 - val_recall: 0.0000e+00\n",
      "Epoch 3/17\n",
      "109/109 [==============================] - 32s 293ms/step - loss: 0.6925 - accuracy: 0.7789 - precision: 0.4600 - recall: 0.0091 - val_loss: 0.6851 - val_accuracy: 0.8241 - val_precision: 0.3333 - val_recall: 0.0018\n",
      "Epoch 4/17\n",
      "109/109 [==============================] - 124s 1s/step - loss: 0.6892 - accuracy: 0.8131 - precision: 0.7650 - recall: 0.2214 - val_loss: 0.6717 - val_accuracy: 0.8548 - val_precision: 0.9286 - val_recall: 0.1877\n",
      "Epoch 5/17\n",
      "109/109 [==============================] - 150s 1s/step - loss: 0.6808 - accuracy: 0.8323 - precision: 0.6829 - recall: 0.4488 - val_loss: 0.6568 - val_accuracy: 0.8631 - val_precision: 0.6826 - val_recall: 0.4116\n",
      "Epoch 6/17\n",
      "109/109 [==============================] - 153s 1s/step - loss: 0.6694 - accuracy: 0.8202 - precision: 0.6109 - recall: 0.5109 - val_loss: 0.6467 - val_accuracy: 0.8599 - val_precision: 0.6522 - val_recall: 0.4332\n",
      "Epoch 7/17\n",
      "109/109 [==============================] - 149s 1s/step - loss: 0.6645 - accuracy: 0.8182 - precision: 0.6040 - recall: 0.5121 - val_loss: 0.6383 - val_accuracy: 0.8612 - val_precision: 0.6686 - val_recall: 0.4152\n",
      "Epoch 8/17\n",
      "109/109 [==============================] - 134s 1s/step - loss: 0.6616 - accuracy: 0.8232 - precision: 0.6218 - recall: 0.5077 - val_loss: 0.6333 - val_accuracy: 0.8599 - val_precision: 0.6697 - val_recall: 0.3989\n",
      "Epoch 9/17\n",
      "109/109 [==============================] - 151s 1s/step - loss: 0.6598 - accuracy: 0.8238 - precision: 0.6232 - recall: 0.5101 - val_loss: 0.6295 - val_accuracy: 0.8618 - val_precision: 0.6855 - val_recall: 0.3935\n",
      "Epoch 10/17\n",
      "109/109 [==============================] - 152s 1s/step - loss: 0.6585 - accuracy: 0.8246 - precision: 0.6260 - recall: 0.5109 - val_loss: 0.6266 - val_accuracy: 0.8624 - val_precision: 0.6935 - val_recall: 0.3881\n",
      "Epoch 11/17\n",
      "109/109 [==============================] - 144s 1s/step - loss: 0.6573 - accuracy: 0.8259 - precision: 0.6285 - recall: 0.5164 - val_loss: 0.6244 - val_accuracy: 0.8637 - val_precision: 0.7296 - val_recall: 0.3556\n",
      "Epoch 12/17\n",
      "109/109 [==============================] - 138s 1s/step - loss: 0.6563 - accuracy: 0.8324 - precision: 0.6519 - recall: 0.5168 - val_loss: 0.6238 - val_accuracy: 0.8643 - val_precision: 0.6969 - val_recall: 0.4025\n",
      "Epoch 13/17\n",
      "109/109 [==============================] - 147s 1s/step - loss: 0.6557 - accuracy: 0.8332 - precision: 0.6557 - recall: 0.5144 - val_loss: 0.6225 - val_accuracy: 0.8653 - val_precision: 0.7279 - val_recall: 0.3718\n",
      "Epoch 14/17\n",
      "109/109 [==============================] - 160s 1s/step - loss: 0.6551 - accuracy: 0.8336 - precision: 0.6563 - recall: 0.5172 - val_loss: 0.6222 - val_accuracy: 0.8669 - val_precision: 0.7107 - val_recall: 0.4079\n",
      "Epoch 15/17\n",
      "109/109 [==============================] - 158s 1s/step - loss: 0.6544 - accuracy: 0.8366 - precision: 0.6663 - recall: 0.5204 - val_loss: 0.6215 - val_accuracy: 0.8691 - val_precision: 0.7282 - val_recall: 0.4061\n",
      "Epoch 16/17\n",
      "109/109 [==============================] - 160s 1s/step - loss: 0.6538 - accuracy: 0.8368 - precision: 0.6672 - recall: 0.5200 - val_loss: 0.6203 - val_accuracy: 0.8704 - val_precision: 0.7580 - val_recall: 0.3845\n",
      "Epoch 17/17\n",
      "109/109 [==============================] - 160s 1s/step - loss: 0.6532 - accuracy: 0.8375 - precision: 0.6682 - recall: 0.5239 - val_loss: 0.6203 - val_accuracy: 0.8716 - val_precision: 0.7365 - val_recall: 0.4188\n",
      "Min training loss=0.6531913876533508, min validation loss=0.6202701926231384\n",
      "99/99 [==============================] - 20s 196ms/step\n",
      "Results on test with model:\n",
      "TP : 232, FP : 83, TN : 12903, FN : 507, FPR : 0.006391, FNR : 0.686062, PRC : 0.736508, RCL : 0.313938, F1 : 0.440228\n",
      "INFO:tensorflow:Assets written to: results/ml_0.440228-20240222_104009/model/assets\n"
     ]
    },
    {
     "name": "stderr",
     "output_type": "stream",
     "text": [
      "2024-02-22 10:40:17,584 | INFO | builder_impl.py:801 | Assets written to: results/ml_0.440228-20240222_104009/model/assets\n"
     ]
    },
    {
     "name": "stdout",
     "output_type": "stream",
     "text": [
      "Saving model results/ml_0.440228-20240222_104009\n",
      "{'lstm_units': 417, 'dense_1_units': 268, 'activation': 'tanh', 'learning_rate': 0.001, 'epochs': 16, 'batch_size': 127}\n",
      "Epoch 1/16\n",
      "91/91 [==============================] - 262s 3s/step - loss: 0.2931 - accuracy: 0.8758 - precision: 0.6685 - recall: 0.8073 - val_loss: 0.1177 - val_accuracy: 0.9632 - val_precision: 0.9345 - val_recall: 0.8502\n",
      "Epoch 2/16\n",
      "91/91 [==============================] - 283s 3s/step - loss: 0.1689 - accuracy: 0.9388 - precision: 0.8096 - recall: 0.9450 - val_loss: 0.1570 - val_accuracy: 0.9436 - val_precision: 0.7892 - val_recall: 0.9260\n",
      "Epoch 3/16\n",
      "91/91 [==============================] - 283s 3s/step - loss: 0.1308 - accuracy: 0.9536 - precision: 0.8520 - recall: 0.9557 - val_loss: 0.1850 - val_accuracy: 0.9271 - val_precision: 0.7225 - val_recall: 0.9495\n",
      "Epoch 4/16\n",
      "91/91 [==============================] - 283s 3s/step - loss: 0.1216 - accuracy: 0.9542 - precision: 0.8521 - recall: 0.9589 - val_loss: 0.1260 - val_accuracy: 0.9550 - val_precision: 0.8366 - val_recall: 0.9242\n",
      "Epoch 5/16\n",
      "91/91 [==============================] - 283s 3s/step - loss: 0.1086 - accuracy: 0.9586 - precision: 0.8647 - recall: 0.9632 - val_loss: 0.1641 - val_accuracy: 0.9372 - val_precision: 0.7550 - val_recall: 0.9513\n",
      "Epoch 6/16\n",
      "91/91 [==============================] - 283s 3s/step - loss: 0.1077 - accuracy: 0.9609 - precision: 0.8699 - recall: 0.9676 - val_loss: 0.2284 - val_accuracy: 0.9179 - val_precision: 0.6908 - val_recall: 0.9639\n",
      "Epoch 7/16\n",
      "91/91 [==============================] - 283s 3s/step - loss: 0.0943 - accuracy: 0.9653 - precision: 0.8824 - recall: 0.9727 - val_loss: 0.1186 - val_accuracy: 0.9597 - val_precision: 0.8662 - val_recall: 0.9116\n",
      "Epoch 8/16\n",
      "91/91 [==============================] - 218s 2s/step - loss: 0.0929 - accuracy: 0.9659 - precision: 0.8862 - recall: 0.9699 - val_loss: 0.1153 - val_accuracy: 0.9597 - val_precision: 0.8506 - val_recall: 0.9350\n",
      "Epoch 9/16\n",
      "91/91 [==============================] - 283s 3s/step - loss: 0.0954 - accuracy: 0.9646 - precision: 0.8831 - recall: 0.9676 - val_loss: 0.1112 - val_accuracy: 0.9670 - val_precision: 0.8879 - val_recall: 0.9296\n",
      "Epoch 10/16\n",
      "91/91 [==============================] - 282s 3s/step - loss: 0.0852 - accuracy: 0.9678 - precision: 0.8919 - recall: 0.9719 - val_loss: 0.1058 - val_accuracy: 0.9664 - val_precision: 0.9118 - val_recall: 0.8953\n",
      "Epoch 11/16\n",
      "91/91 [==============================] - 285s 3s/step - loss: 0.0765 - accuracy: 0.9708 - precision: 0.9022 - recall: 0.9735 - val_loss: 0.1139 - val_accuracy: 0.9648 - val_precision: 0.8723 - val_recall: 0.9368\n",
      "Epoch 12/16\n",
      "91/91 [==============================] - 283s 3s/step - loss: 0.1648 - accuracy: 0.9521 - precision: 0.8476 - recall: 0.9545 - val_loss: 0.1987 - val_accuracy: 0.9173 - val_precision: 0.6951 - val_recall: 0.9422\n",
      "Epoch 13/16\n",
      "91/91 [==============================] - 283s 3s/step - loss: 0.0921 - accuracy: 0.9645 - precision: 0.8825 - recall: 0.9680 - val_loss: 0.0976 - val_accuracy: 0.9677 - val_precision: 0.9021 - val_recall: 0.9152\n",
      "Epoch 14/16\n",
      "91/91 [==============================] - 283s 3s/step - loss: 0.0747 - accuracy: 0.9742 - precision: 0.9109 - recall: 0.9786 - val_loss: 0.1258 - val_accuracy: 0.9540 - val_precision: 0.8241 - val_recall: 0.9386\n",
      "Epoch 15/16\n",
      "91/91 [==============================] - 283s 3s/step - loss: 0.0697 - accuracy: 0.9742 - precision: 0.9128 - recall: 0.9763 - val_loss: 0.1763 - val_accuracy: 0.9268 - val_precision: 0.7197 - val_recall: 0.9549\n",
      "Epoch 16/16\n",
      "91/91 [==============================] - 283s 3s/step - loss: 0.0673 - accuracy: 0.9756 - precision: 0.9154 - recall: 0.9802 - val_loss: 0.1215 - val_accuracy: 0.9572 - val_precision: 0.8593 - val_recall: 0.9043\n",
      "Min training loss=0.06726254522800446, min validation loss=0.09763825684785843\n",
      "99/99 [==============================] - 50s 503ms/step\n",
      "Results on test with model:\n",
      "TP : 501, FP : 82, TN : 12904, FN : 238, FPR : 0.006314, FNR : 0.322057, PRC : 0.859348, RCL : 0.677943, F1 : 0.757943\n",
      "INFO:tensorflow:Assets written to: results/ml_0.757943-20240222_115617/model/assets\n"
     ]
    },
    {
     "name": "stderr",
     "output_type": "stream",
     "text": [
      "2024-02-22 11:56:25,428 | INFO | builder_impl.py:801 | Assets written to: results/ml_0.757943-20240222_115617/model/assets\n"
     ]
    },
    {
     "name": "stdout",
     "output_type": "stream",
     "text": [
      "Saving model results/ml_0.757943-20240222_115617\n",
      "{'lstm_units': 239, 'dense_1_units': 206, 'activation': 'tanh', 'learning_rate': 0.001, 'epochs': 49, 'batch_size': 48}\n",
      "Epoch 1/49\n",
      "239/239 [==============================] - 170s 695ms/step - loss: 0.2423 - accuracy: 0.9017 - precision: 0.7399 - recall: 0.9114 - val_loss: 0.1990 - val_accuracy: 0.9151 - val_precision: 0.6829 - val_recall: 0.9639\n",
      "Epoch 2/49\n",
      "239/239 [==============================] - 162s 678ms/step - loss: 0.1418 - accuracy: 0.9487 - precision: 0.8366 - recall: 0.9537 - val_loss: 0.0981 - val_accuracy: 0.9712 - val_precision: 0.9097 - val_recall: 0.9278\n",
      "Epoch 3/49\n",
      "239/239 [==============================] - 164s 686ms/step - loss: 0.1220 - accuracy: 0.9548 - precision: 0.8529 - recall: 0.9609 - val_loss: 0.1302 - val_accuracy: 0.9534 - val_precision: 0.8165 - val_recall: 0.9477\n",
      "Epoch 4/49\n",
      "239/239 [==============================] - 166s 693ms/step - loss: 0.1154 - accuracy: 0.9592 - precision: 0.8682 - recall: 0.9612 - val_loss: 0.1218 - val_accuracy: 0.9582 - val_precision: 0.8403 - val_recall: 0.9404\n",
      "Epoch 5/49\n",
      "239/239 [==============================] - 171s 715ms/step - loss: 0.1081 - accuracy: 0.9581 - precision: 0.8637 - recall: 0.9620 - val_loss: 0.1100 - val_accuracy: 0.9674 - val_precision: 0.8765 - val_recall: 0.9477\n",
      "Epoch 6/49\n",
      "239/239 [==============================] - 168s 703ms/step - loss: 0.0967 - accuracy: 0.9650 - precision: 0.8847 - recall: 0.9676 - val_loss: 0.1614 - val_accuracy: 0.9395 - val_precision: 0.7673 - val_recall: 0.9404\n",
      "Epoch 7/49\n",
      "239/239 [==============================] - 162s 678ms/step - loss: 0.0910 - accuracy: 0.9653 - precision: 0.8848 - recall: 0.9692 - val_loss: 0.2106 - val_accuracy: 0.9290 - val_precision: 0.7200 - val_recall: 0.9747\n",
      "Epoch 8/49\n",
      "239/239 [==============================] - 176s 735ms/step - loss: 0.0833 - accuracy: 0.9689 - precision: 0.8955 - recall: 0.9727 - val_loss: 0.1130 - val_accuracy: 0.9635 - val_precision: 0.8677 - val_recall: 0.9350\n",
      "Epoch 9/49\n",
      "239/239 [==============================] - 173s 725ms/step - loss: 0.0776 - accuracy: 0.9716 - precision: 0.9034 - recall: 0.9759 - val_loss: 0.1105 - val_accuracy: 0.9604 - val_precision: 0.9040 - val_recall: 0.8664\n",
      "Epoch 10/49\n",
      "239/239 [==============================] - 185s 776ms/step - loss: 0.0676 - accuracy: 0.9758 - precision: 0.9167 - recall: 0.9794 - val_loss: 0.1490 - val_accuracy: 0.9468 - val_precision: 0.7960 - val_recall: 0.9368\n",
      "Epoch 11/49\n",
      "239/239 [==============================] - 163s 682ms/step - loss: 0.0623 - accuracy: 0.9770 - precision: 0.9203 - recall: 0.9810 - val_loss: 0.1100 - val_accuracy: 0.9661 - val_precision: 0.8970 - val_recall: 0.9116\n",
      "Epoch 12/49\n",
      "239/239 [==============================] - 166s 695ms/step - loss: 0.0559 - accuracy: 0.9804 - precision: 0.9325 - recall: 0.9826 - val_loss: 0.1245 - val_accuracy: 0.9594 - val_precision: 0.8424 - val_recall: 0.9458\n",
      "Epoch 13/49\n",
      "239/239 [==============================] - 162s 677ms/step - loss: 0.0576 - accuracy: 0.9790 - precision: 0.9281 - recall: 0.9806 - val_loss: 0.1093 - val_accuracy: 0.9655 - val_precision: 0.8816 - val_recall: 0.9278\n",
      "Epoch 14/49\n",
      "239/239 [==============================] - 164s 686ms/step - loss: 0.0529 - accuracy: 0.9811 - precision: 0.9330 - recall: 0.9850 - val_loss: 0.1249 - val_accuracy: 0.9582 - val_precision: 0.8403 - val_recall: 0.9404\n",
      "Epoch 15/49\n",
      "239/239 [==============================] - 163s 681ms/step - loss: 0.0381 - accuracy: 0.9870 - precision: 0.9539 - recall: 0.9889 - val_loss: 0.1374 - val_accuracy: 0.9566 - val_precision: 0.8458 - val_recall: 0.9206\n",
      "Epoch 16/49\n",
      "239/239 [==============================] - 162s 679ms/step - loss: 0.0327 - accuracy: 0.9878 - precision: 0.9544 - recall: 0.9921 - val_loss: 0.1371 - val_accuracy: 0.9610 - val_precision: 0.8696 - val_recall: 0.9152\n",
      "Epoch 17/49\n",
      "239/239 [==============================] - 162s 679ms/step - loss: 0.0324 - accuracy: 0.9887 - precision: 0.9594 - recall: 0.9905 - val_loss: 0.2428 - val_accuracy: 0.9271 - val_precision: 0.7256 - val_recall: 0.9404\n",
      "Epoch 18/49\n",
      "239/239 [==============================] - 165s 690ms/step - loss: 0.0338 - accuracy: 0.9882 - precision: 0.9562 - recall: 0.9921 - val_loss: 0.1521 - val_accuracy: 0.9528 - val_precision: 0.8179 - val_recall: 0.9404\n",
      "Epoch 19/49\n",
      "239/239 [==============================] - 164s 686ms/step - loss: 0.0243 - accuracy: 0.9921 - precision: 0.9703 - recall: 0.9949 - val_loss: 0.1545 - val_accuracy: 0.9591 - val_precision: 0.8571 - val_recall: 0.9206\n",
      "Epoch 20/49\n",
      "239/239 [==============================] - 162s 678ms/step - loss: 0.0225 - accuracy: 0.9924 - precision: 0.9703 - recall: 0.9960 - val_loss: 0.1438 - val_accuracy: 0.9629 - val_precision: 0.8624 - val_recall: 0.9386\n",
      "Epoch 21/49\n",
      "239/239 [==============================] - 162s 678ms/step - loss: 0.0209 - accuracy: 0.9933 - precision: 0.9759 - recall: 0.9941 - val_loss: 0.1794 - val_accuracy: 0.9556 - val_precision: 0.8307 - val_recall: 0.9386\n",
      "Epoch 22/49\n",
      "239/239 [==============================] - 162s 679ms/step - loss: 0.0233 - accuracy: 0.9926 - precision: 0.9729 - recall: 0.9941 - val_loss: 0.1579 - val_accuracy: 0.9604 - val_precision: 0.8629 - val_recall: 0.9206\n",
      "Epoch 23/49\n",
      "239/239 [==============================] - 164s 687ms/step - loss: 0.0147 - accuracy: 0.9954 - precision: 0.9828 - recall: 0.9964 - val_loss: 0.1742 - val_accuracy: 0.9588 - val_precision: 0.8732 - val_recall: 0.8953\n",
      "Epoch 24/49\n",
      "239/239 [==============================] - 168s 704ms/step - loss: 0.0136 - accuracy: 0.9959 - precision: 0.9848 - recall: 0.9968 - val_loss: 0.1690 - val_accuracy: 0.9610 - val_precision: 0.8659 - val_recall: 0.9206\n",
      "Epoch 25/49\n",
      "239/239 [==============================] - 165s 691ms/step - loss: 0.0114 - accuracy: 0.9963 - precision: 0.9867 - recall: 0.9968 - val_loss: 0.1877 - val_accuracy: 0.9534 - val_precision: 0.8375 - val_recall: 0.9116\n",
      "Epoch 26/49\n",
      "239/239 [==============================] - 163s 680ms/step - loss: 0.0103 - accuracy: 0.9965 - precision: 0.9875 - recall: 0.9968 - val_loss: 0.2012 - val_accuracy: 0.9582 - val_precision: 0.8425 - val_recall: 0.9368\n",
      "Epoch 27/49\n",
      "239/239 [==============================] - 163s 681ms/step - loss: 0.0087 - accuracy: 0.9978 - precision: 0.9929 - recall: 0.9972 - val_loss: 0.2425 - val_accuracy: 0.9414 - val_precision: 0.7766 - val_recall: 0.9350\n",
      "Epoch 28/49\n",
      "239/239 [==============================] - 163s 681ms/step - loss: 0.0099 - accuracy: 0.9971 - precision: 0.9894 - recall: 0.9976 - val_loss: 0.1820 - val_accuracy: 0.9594 - val_precision: 0.8574 - val_recall: 0.9224\n",
      "Epoch 29/49\n",
      "239/239 [==============================] - 163s 681ms/step - loss: 0.0274 - accuracy: 0.9914 - precision: 0.9698 - recall: 0.9921 - val_loss: 0.1664 - val_accuracy: 0.9594 - val_precision: 0.8339 - val_recall: 0.9603\n",
      "Epoch 30/49\n",
      "239/239 [==============================] - 163s 682ms/step - loss: 0.0231 - accuracy: 0.9912 - precision: 0.9673 - recall: 0.9937 - val_loss: 0.1491 - val_accuracy: 0.9639 - val_precision: 0.8957 - val_recall: 0.8989\n",
      "Epoch 31/49\n",
      "239/239 [==============================] - 162s 680ms/step - loss: 0.0098 - accuracy: 0.9977 - precision: 0.9917 - recall: 0.9980 - val_loss: 0.1695 - val_accuracy: 0.9655 - val_precision: 0.8765 - val_recall: 0.9350\n",
      "Epoch 32/49\n",
      "239/239 [==============================] - 163s 682ms/step - loss: 0.0120 - accuracy: 0.9960 - precision: 0.9855 - recall: 0.9964 - val_loss: 0.2002 - val_accuracy: 0.9569 - val_precision: 0.8438 - val_recall: 0.9260\n",
      "Epoch 33/49\n",
      "239/239 [==============================] - 163s 682ms/step - loss: 0.0170 - accuracy: 0.9928 - precision: 0.9748 - recall: 0.9929 - val_loss: 0.1749 - val_accuracy: 0.9620 - val_precision: 0.8617 - val_recall: 0.9332\n",
      "Epoch 34/49\n",
      "239/239 [==============================] - 162s 680ms/step - loss: 0.0069 - accuracy: 0.9976 - precision: 0.9917 - recall: 0.9976 - val_loss: 0.2163 - val_accuracy: 0.9572 - val_precision: 0.8310 - val_recall: 0.9495\n",
      "Epoch 35/49\n",
      "239/239 [==============================] - 163s 683ms/step - loss: 0.0068 - accuracy: 0.9981 - precision: 0.9933 - recall: 0.9980 - val_loss: 0.1764 - val_accuracy: 0.9670 - val_precision: 0.8866 - val_recall: 0.9314\n",
      "Epoch 36/49\n",
      "239/239 [==============================] - 167s 699ms/step - loss: 0.0056 - accuracy: 0.9983 - precision: 0.9941 - recall: 0.9980 - val_loss: 0.1804 - val_accuracy: 0.9674 - val_precision: 0.8816 - val_recall: 0.9404\n",
      "Epoch 37/49\n",
      "239/239 [==============================] - 168s 705ms/step - loss: 0.0056 - accuracy: 0.9981 - precision: 0.9933 - recall: 0.9980 - val_loss: 0.2101 - val_accuracy: 0.9597 - val_precision: 0.8394 - val_recall: 0.9531\n",
      "Epoch 38/49\n",
      "239/239 [==============================] - 164s 685ms/step - loss: 0.0055 - accuracy: 0.9984 - precision: 0.9949 - recall: 0.9980 - val_loss: 0.1901 - val_accuracy: 0.9639 - val_precision: 0.8846 - val_recall: 0.9134\n",
      "Epoch 39/49\n",
      "239/239 [==============================] - 169s 708ms/step - loss: 0.0048 - accuracy: 0.9987 - precision: 0.9957 - recall: 0.9984 - val_loss: 0.1884 - val_accuracy: 0.9661 - val_precision: 0.8821 - val_recall: 0.9314\n",
      "Epoch 40/49\n",
      "239/239 [==============================] - 179s 738ms/step - loss: 0.0040 - accuracy: 0.9990 - precision: 0.9964 - recall: 0.9988 - val_loss: 0.1833 - val_accuracy: 0.9661 - val_precision: 0.8956 - val_recall: 0.9134\n",
      "Epoch 41/49\n",
      "239/239 [==============================] - 161s 674ms/step - loss: 0.0072 - accuracy: 0.9977 - precision: 0.9929 - recall: 0.9968 - val_loss: 0.1877 - val_accuracy: 0.9655 - val_precision: 0.8830 - val_recall: 0.9260\n",
      "Epoch 42/49\n",
      "239/239 [==============================] - 162s 677ms/step - loss: 0.0155 - accuracy: 0.9949 - precision: 0.9817 - recall: 0.9953 - val_loss: 0.1813 - val_accuracy: 0.9556 - val_precision: 0.8594 - val_recall: 0.8935\n",
      "Epoch 43/49\n",
      "239/239 [==============================] - 162s 676ms/step - loss: 0.0199 - accuracy: 0.9933 - precision: 0.9763 - recall: 0.9937 - val_loss: 0.1476 - val_accuracy: 0.9693 - val_precision: 0.9002 - val_recall: 0.9278\n",
      "Epoch 44/49\n",
      "239/239 [==============================] - 162s 680ms/step - loss: 0.0107 - accuracy: 0.9968 - precision: 0.9882 - recall: 0.9972 - val_loss: 0.2116 - val_accuracy: 0.9547 - val_precision: 0.8128 - val_recall: 0.9639\n",
      "Epoch 45/49\n",
      "239/239 [==============================] - 163s 681ms/step - loss: 0.0046 - accuracy: 0.9984 - precision: 0.9945 - recall: 0.9984 - val_loss: 0.1629 - val_accuracy: 0.9661 - val_precision: 0.8873 - val_recall: 0.9242\n",
      "Epoch 46/49\n",
      "239/239 [==============================] - 163s 681ms/step - loss: 0.0044 - accuracy: 0.9986 - precision: 0.9961 - recall: 0.9976 - val_loss: 0.1681 - val_accuracy: 0.9632 - val_precision: 0.8856 - val_recall: 0.9079\n",
      "Epoch 47/49\n",
      "239/239 [==============================] - 163s 681ms/step - loss: 0.0034 - accuracy: 0.9992 - precision: 0.9976 - recall: 0.9988 - val_loss: 0.2000 - val_accuracy: 0.9632 - val_precision: 0.8638 - val_recall: 0.9386\n",
      "Epoch 48/49\n",
      "239/239 [==============================] - 163s 681ms/step - loss: 0.0048 - accuracy: 0.9983 - precision: 0.9945 - recall: 0.9980 - val_loss: 0.1733 - val_accuracy: 0.9635 - val_precision: 0.8858 - val_recall: 0.9097\n",
      "Epoch 49/49\n",
      "239/239 [==============================] - 162s 677ms/step - loss: 0.0038 - accuracy: 0.9989 - precision: 0.9964 - recall: 0.9984 - val_loss: 0.1789 - val_accuracy: 0.9686 - val_precision: 0.8824 - val_recall: 0.9477\n",
      "Min training loss=0.00335323135368526, min validation loss=0.09812024980783463\n",
      "99/99 [==============================] - 24s 237ms/step\n",
      "Results on test with model:\n",
      "TP : 525, FP : 70, TN : 12916, FN : 214, FPR : 0.005390, FNR : 0.289581, PRC : 0.882353, RCL : 0.710419, F1 : 0.787106\n",
      "INFO:tensorflow:Assets written to: results/ml_0.787106-20240222_141206/model/assets\n"
     ]
    },
    {
     "name": "stderr",
     "output_type": "stream",
     "text": [
      "2024-02-22 14:12:13,951 | INFO | builder_impl.py:801 | Assets written to: results/ml_0.787106-20240222_141206/model/assets\n"
     ]
    },
    {
     "name": "stdout",
     "output_type": "stream",
     "text": [
      "Saving model results/ml_0.787106-20240222_141206\n",
      "{'lstm_units': 346, 'dense_1_units': 245, 'activation': 'tanh', 'learning_rate': 1e-05, 'epochs': 60, 'batch_size': 86}\n",
      "Epoch 1/60\n",
      "134/134 [==============================] - 270s 2s/step - loss: 0.6650 - accuracy: 0.4002 - precision: 0.2985 - recall: 0.9342 - val_loss: 0.5373 - val_accuracy: 0.8222 - val_precision: 0.4955 - val_recall: 0.6913\n",
      "Epoch 2/60\n",
      "134/134 [==============================] - 267s 2s/step - loss: 0.5643 - accuracy: 0.7445 - precision: 0.4435 - recall: 0.6180 - val_loss: 0.4736 - val_accuracy: 0.8403 - val_precision: 0.5354 - val_recall: 0.6823\n",
      "Epoch 3/60\n",
      "134/134 [==============================] - 266s 2s/step - loss: 0.5200 - accuracy: 0.7802 - precision: 0.5017 - recall: 0.6291 - val_loss: 0.4455 - val_accuracy: 0.8691 - val_precision: 0.6080 - val_recall: 0.7166\n",
      "Epoch 4/60\n",
      "134/134 [==============================] - 266s 2s/step - loss: 0.4792 - accuracy: 0.8309 - precision: 0.6080 - recall: 0.6592 - val_loss: 0.3818 - val_accuracy: 0.9239 - val_precision: 0.8601 - val_recall: 0.6769\n",
      "Epoch 5/60\n",
      "134/134 [==============================] - 266s 2s/step - loss: 0.4332 - accuracy: 0.8695 - precision: 0.6951 - recall: 0.7284 - val_loss: 0.3293 - val_accuracy: 0.9338 - val_precision: 0.9600 - val_recall: 0.6498\n",
      "Epoch 6/60\n",
      "134/134 [==============================] - 266s 2s/step - loss: 0.3815 - accuracy: 0.9099 - precision: 0.7979 - recall: 0.7928 - val_loss: 0.3485 - val_accuracy: 0.9433 - val_precision: 0.8250 - val_recall: 0.8592\n",
      "Epoch 7/60\n",
      "134/134 [==============================] - 266s 2s/step - loss: 0.3375 - accuracy: 0.9237 - precision: 0.8155 - recall: 0.8458 - val_loss: 0.2997 - val_accuracy: 0.9525 - val_precision: 0.8811 - val_recall: 0.8430\n",
      "Epoch 8/60\n",
      "134/134 [==============================] - 276s 2s/step - loss: 0.3101 - accuracy: 0.9177 - precision: 0.7844 - recall: 0.8648 - val_loss: 0.3143 - val_accuracy: 0.9357 - val_precision: 0.7671 - val_recall: 0.9097\n",
      "Epoch 9/60\n",
      "134/134 [==============================] - 266s 2s/step - loss: 0.2890 - accuracy: 0.9234 - precision: 0.7964 - recall: 0.8770 - val_loss: 0.3002 - val_accuracy: 0.9350 - val_precision: 0.7648 - val_recall: 0.9097\n",
      "Epoch 10/60\n",
      "134/134 [==============================] - 268s 2s/step - loss: 0.2742 - accuracy: 0.9271 - precision: 0.8049 - recall: 0.8841 - val_loss: 0.2365 - val_accuracy: 0.9591 - val_precision: 0.9191 - val_recall: 0.8412\n",
      "Epoch 11/60\n",
      "134/134 [==============================] - 266s 2s/step - loss: 0.2603 - accuracy: 0.9334 - precision: 0.8142 - recall: 0.9047 - val_loss: 0.2461 - val_accuracy: 0.9544 - val_precision: 0.8559 - val_recall: 0.8899\n",
      "Epoch 12/60\n",
      "134/134 [==============================] - 266s 2s/step - loss: 0.2470 - accuracy: 0.9354 - precision: 0.8178 - recall: 0.9102 - val_loss: 0.2550 - val_accuracy: 0.9474 - val_precision: 0.8089 - val_recall: 0.9170\n",
      "Epoch 13/60\n",
      "134/134 [==============================] - 266s 2s/step - loss: 0.2407 - accuracy: 0.9353 - precision: 0.8168 - recall: 0.9114 - val_loss: 0.1864 - val_accuracy: 0.9531 - val_precision: 0.9572 - val_recall: 0.7671\n",
      "Epoch 14/60\n",
      "134/134 [==============================] - 267s 2s/step - loss: 0.2299 - accuracy: 0.9407 - precision: 0.8299 - recall: 0.9201 - val_loss: 0.2049 - val_accuracy: 0.9626 - val_precision: 0.9037 - val_recall: 0.8809\n",
      "Epoch 15/60\n",
      "134/134 [==============================] - 266s 2s/step - loss: 0.2216 - accuracy: 0.9428 - precision: 0.8337 - recall: 0.9257 - val_loss: 0.2254 - val_accuracy: 0.9569 - val_precision: 0.8404 - val_recall: 0.9314\n",
      "Epoch 16/60\n",
      "134/134 [==============================] - 266s 2s/step - loss: 0.2157 - accuracy: 0.9434 - precision: 0.8384 - recall: 0.9213 - val_loss: 0.2185 - val_accuracy: 0.9553 - val_precision: 0.8380 - val_recall: 0.9242\n",
      "Epoch 17/60\n",
      "134/134 [==============================] - 267s 2s/step - loss: 0.2118 - accuracy: 0.9433 - precision: 0.8354 - recall: 0.9253 - val_loss: 0.2023 - val_accuracy: 0.9569 - val_precision: 0.8542 - val_recall: 0.9097\n",
      "Epoch 18/60\n",
      "134/134 [==============================] - 266s 2s/step - loss: 0.2040 - accuracy: 0.9466 - precision: 0.8434 - recall: 0.9308 - val_loss: 0.2227 - val_accuracy: 0.9496 - val_precision: 0.8062 - val_recall: 0.9386\n",
      "Epoch 19/60\n",
      "134/134 [==============================] - 266s 2s/step - loss: 0.2014 - accuracy: 0.9455 - precision: 0.8393 - recall: 0.9316 - val_loss: 0.2121 - val_accuracy: 0.9518 - val_precision: 0.8150 - val_recall: 0.9386\n",
      "Epoch 20/60\n",
      "134/134 [==============================] - 266s 2s/step - loss: 0.1975 - accuracy: 0.9452 - precision: 0.8374 - recall: 0.9328 - val_loss: 0.1795 - val_accuracy: 0.9635 - val_precision: 0.8817 - val_recall: 0.9152\n",
      "Epoch 21/60\n",
      "134/134 [==============================] - 266s 2s/step - loss: 0.1993 - accuracy: 0.9418 - precision: 0.8258 - recall: 0.9332 - val_loss: 0.1791 - val_accuracy: 0.9639 - val_precision: 0.8819 - val_recall: 0.9170\n",
      "Epoch 22/60\n",
      "134/134 [==============================] - 266s 2s/step - loss: 0.1926 - accuracy: 0.9454 - precision: 0.8388 - recall: 0.9320 - val_loss: 0.1847 - val_accuracy: 0.9585 - val_precision: 0.8496 - val_recall: 0.9278\n",
      "Epoch 23/60\n",
      "134/134 [==============================] - 266s 2s/step - loss: 0.1874 - accuracy: 0.9477 - precision: 0.8422 - recall: 0.9391 - val_loss: 0.1720 - val_accuracy: 0.9620 - val_precision: 0.8690 - val_recall: 0.9224\n",
      "Epoch 24/60\n",
      "134/134 [==============================] - 266s 2s/step - loss: 0.1857 - accuracy: 0.9472 - precision: 0.8409 - recall: 0.9383 - val_loss: 0.2018 - val_accuracy: 0.9502 - val_precision: 0.8078 - val_recall: 0.9404\n",
      "Epoch 25/60\n",
      "134/134 [==============================] - 266s 2s/step - loss: 0.1832 - accuracy: 0.9481 - precision: 0.8444 - recall: 0.9375 - val_loss: 0.1769 - val_accuracy: 0.9604 - val_precision: 0.8581 - val_recall: 0.9278\n",
      "Epoch 26/60\n",
      "134/134 [==============================] - 266s 2s/step - loss: 0.1821 - accuracy: 0.9469 - precision: 0.8395 - recall: 0.9391 - val_loss: 0.1786 - val_accuracy: 0.9569 - val_precision: 0.8404 - val_recall: 0.9314\n",
      "Epoch 27/60\n",
      "134/134 [==============================] - 266s 2s/step - loss: 0.1782 - accuracy: 0.9474 - precision: 0.8400 - recall: 0.9407 - val_loss: 0.1759 - val_accuracy: 0.9572 - val_precision: 0.8418 - val_recall: 0.9314\n",
      "Epoch 28/60\n",
      "134/134 [==============================] - 266s 2s/step - loss: 0.1754 - accuracy: 0.9489 - precision: 0.8435 - recall: 0.9439 - val_loss: 0.1531 - val_accuracy: 0.9670 - val_precision: 0.8906 - val_recall: 0.9260\n",
      "Epoch 29/60\n",
      "134/134 [==============================] - 266s 2s/step - loss: 0.1740 - accuracy: 0.9494 - precision: 0.8459 - recall: 0.9423 - val_loss: 0.1779 - val_accuracy: 0.9537 - val_precision: 0.8228 - val_recall: 0.9386\n",
      "Epoch 30/60\n",
      "134/134 [==============================] - 280s 2s/step - loss: 0.1738 - accuracy: 0.9481 - precision: 0.8412 - recall: 0.9427 - val_loss: 0.1666 - val_accuracy: 0.9582 - val_precision: 0.8459 - val_recall: 0.9314\n",
      "Epoch 31/60\n",
      "134/134 [==============================] - 267s 2s/step - loss: 0.1699 - accuracy: 0.9493 - precision: 0.8439 - recall: 0.9450 - val_loss: 0.1826 - val_accuracy: 0.9506 - val_precision: 0.8080 - val_recall: 0.9422\n",
      "Epoch 32/60\n",
      "134/134 [==============================] - 268s 2s/step - loss: 0.1679 - accuracy: 0.9501 - precision: 0.8464 - recall: 0.9454 - val_loss: 0.1718 - val_accuracy: 0.9537 - val_precision: 0.8218 - val_recall: 0.9404\n",
      "Epoch 33/60\n",
      "134/134 [==============================] - 268s 2s/step - loss: 0.1669 - accuracy: 0.9491 - precision: 0.8421 - recall: 0.9470 - val_loss: 0.1440 - val_accuracy: 0.9667 - val_precision: 0.8877 - val_recall: 0.9278\n",
      "Epoch 34/60\n",
      "134/134 [==============================] - 266s 2s/step - loss: 0.1662 - accuracy: 0.9510 - precision: 0.8487 - recall: 0.9470 - val_loss: 0.1484 - val_accuracy: 0.9607 - val_precision: 0.8583 - val_recall: 0.9296\n",
      "Epoch 35/60\n",
      "134/134 [==============================] - 266s 2s/step - loss: 0.1626 - accuracy: 0.9518 - precision: 0.8509 - recall: 0.9478 - val_loss: 0.1766 - val_accuracy: 0.9499 - val_precision: 0.8056 - val_recall: 0.9422\n",
      "Epoch 36/60\n",
      "134/134 [==============================] - 266s 2s/step - loss: 0.1619 - accuracy: 0.9509 - precision: 0.8467 - recall: 0.9498 - val_loss: 0.1582 - val_accuracy: 0.9553 - val_precision: 0.8315 - val_recall: 0.9350\n",
      "Epoch 37/60\n",
      "134/134 [==============================] - 266s 2s/step - loss: 0.1602 - accuracy: 0.9511 - precision: 0.8482 - recall: 0.9482 - val_loss: 0.1565 - val_accuracy: 0.9556 - val_precision: 0.8328 - val_recall: 0.9350\n",
      "Epoch 38/60\n",
      "134/134 [==============================] - 266s 2s/step - loss: 0.1583 - accuracy: 0.9518 - precision: 0.8492 - recall: 0.9506 - val_loss: 0.1632 - val_accuracy: 0.9534 - val_precision: 0.8185 - val_recall: 0.9440\n",
      "Epoch 39/60\n",
      "134/134 [==============================] - 266s 2s/step - loss: 0.1565 - accuracy: 0.9515 - precision: 0.8480 - recall: 0.9506 - val_loss: 0.1325 - val_accuracy: 0.9680 - val_precision: 0.8912 - val_recall: 0.9314\n",
      "Epoch 40/60\n",
      "134/134 [==============================] - 266s 2s/step - loss: 0.1556 - accuracy: 0.9525 - precision: 0.8528 - recall: 0.9486 - val_loss: 0.1361 - val_accuracy: 0.9639 - val_precision: 0.8716 - val_recall: 0.9314\n",
      "Epoch 41/60\n",
      "134/134 [==============================] - 266s 2s/step - loss: 0.1533 - accuracy: 0.9532 - precision: 0.8530 - recall: 0.9522 - val_loss: 0.1480 - val_accuracy: 0.9556 - val_precision: 0.8328 - val_recall: 0.9350\n",
      "Epoch 42/60\n",
      "134/134 [==============================] - 266s 2s/step - loss: 0.1538 - accuracy: 0.9516 - precision: 0.8473 - recall: 0.9526 - val_loss: 0.1326 - val_accuracy: 0.9642 - val_precision: 0.8731 - val_recall: 0.9314\n",
      "Epoch 43/60\n",
      "134/134 [==============================] - 266s 2s/step - loss: 0.1517 - accuracy: 0.9518 - precision: 0.8497 - recall: 0.9498 - val_loss: 0.1513 - val_accuracy: 0.9540 - val_precision: 0.8262 - val_recall: 0.9350\n",
      "Epoch 44/60\n",
      "134/134 [==============================] - 266s 2s/step - loss: 0.1503 - accuracy: 0.9530 - precision: 0.8531 - recall: 0.9506 - val_loss: 0.1453 - val_accuracy: 0.9547 - val_precision: 0.8288 - val_recall: 0.9350\n",
      "Epoch 45/60\n",
      "134/134 [==============================] - 267s 2s/step - loss: 0.1490 - accuracy: 0.9518 - precision: 0.8484 - recall: 0.9518 - val_loss: 0.1259 - val_accuracy: 0.9718 - val_precision: 0.9144 - val_recall: 0.9260\n",
      "Epoch 46/60\n",
      "134/134 [==============================] - 266s 2s/step - loss: 0.1485 - accuracy: 0.9537 - precision: 0.8543 - recall: 0.9526 - val_loss: 0.1457 - val_accuracy: 0.9544 - val_precision: 0.8275 - val_recall: 0.9350\n",
      "Epoch 47/60\n",
      "134/134 [==============================] - 266s 2s/step - loss: 0.1471 - accuracy: 0.9530 - precision: 0.8513 - recall: 0.9533 - val_loss: 0.1361 - val_accuracy: 0.9613 - val_precision: 0.8576 - val_recall: 0.9350\n",
      "Epoch 48/60\n",
      "134/134 [==============================] - 267s 2s/step - loss: 0.1461 - accuracy: 0.9532 - precision: 0.8522 - recall: 0.9533 - val_loss: 0.1361 - val_accuracy: 0.9597 - val_precision: 0.8506 - val_recall: 0.9350\n",
      "Epoch 49/60\n",
      "134/134 [==============================] - 267s 2s/step - loss: 0.1460 - accuracy: 0.9516 - precision: 0.8461 - recall: 0.9541 - val_loss: 0.1304 - val_accuracy: 0.9635 - val_precision: 0.8677 - val_recall: 0.9350\n",
      "Epoch 50/60\n",
      " 30/134 [=====>........................] - ETA: 3:08 - loss: 0.1698 - accuracy: 0.9473 - precision: 0.8368 - recall: 0.9412"
     ]
    }
   ],
   "source": [
    "from skopt import gp_minimize\n",
    "N_TRIALS = 40\n",
    "SEED = 5       # 2020\n",
    "np.int = int\n",
    "\n",
    "search_result = gp_minimize(func=train_model, dimensions=space, n_calls=N_TRIALS,random_state=SEED)"
   ],
   "metadata": {
    "collapsed": false,
    "is_executing": true,
    "ExecuteTime": {
     "start_time": "2024-02-22T07:27:29.933096400Z"
    }
   },
   "id": "f1b91babd6259686",
   "execution_count": null
  },
  {
   "cell_type": "code",
   "outputs": [],
   "source": [
    "gc.collect()"
   ],
   "metadata": {
    "collapsed": false
   },
   "id": "9b13f77feb4273d6",
   "execution_count": null
  }
 ],
 "metadata": {
  "kernelspec": {
   "display_name": "Python 3",
   "language": "python",
   "name": "python3"
  },
  "language_info": {
   "codemirror_mode": {
    "name": "ipython",
    "version": 2
   },
   "file_extension": ".py",
   "mimetype": "text/x-python",
   "name": "python",
   "nbconvert_exporter": "python",
   "pygments_lexer": "ipython2",
   "version": "2.7.6"
  }
 },
 "nbformat": 4,
 "nbformat_minor": 5
}
